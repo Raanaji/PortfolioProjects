{
 "cells": [
  {
   "cell_type": "markdown",
   "metadata": {
    "id": "30yqj4ZHiU9Y"
   },
   "source": [
    "# Project #1"
   ]
  },
  {
   "cell_type": "code",
   "execution_count": null,
   "metadata": {
    "colab": {
     "base_uri": "https://localhost:8080/"
    },
    "id": "fkkF8yirIACw",
    "outputId": "913d487f-7e29-4f06-d3a3-8385ef711952"
   },
   "outputs": [
    {
     "name": "stdout",
     "output_type": "stream",
     "text": [
      "Requirement already satisfied: numpy in /usr/local/lib/python3.7/dist-packages (1.19.5)\n",
      "Collecting yfinance\n",
      "  Downloading https://files.pythonhosted.org/packages/7a/e8/b9d7104d3a4bf39924799067592d9e59119fcfc900a425a12e80a3123ec8/yfinance-0.1.55.tar.gz\n",
      "Requirement already satisfied: pandas>=0.24 in /usr/local/lib/python3.7/dist-packages (from yfinance) (1.1.5)\n",
      "Requirement already satisfied: numpy>=1.15 in /usr/local/lib/python3.7/dist-packages (from yfinance) (1.19.5)\n",
      "Requirement already satisfied: requests>=2.20 in /usr/local/lib/python3.7/dist-packages (from yfinance) (2.23.0)\n",
      "Requirement already satisfied: multitasking>=0.0.7 in /usr/local/lib/python3.7/dist-packages (from yfinance) (0.0.9)\n",
      "Collecting lxml>=4.5.1\n",
      "\u001b[?25l  Downloading https://files.pythonhosted.org/packages/d2/88/b25778f17e5320c1c58f8c5060fb5b037288e162bd7554c30799e9ea90db/lxml-4.6.2-cp37-cp37m-manylinux1_x86_64.whl (5.5MB)\n",
      "\u001b[K     |████████████████████████████████| 5.5MB 6.0MB/s \n",
      "\u001b[?25hRequirement already satisfied: python-dateutil>=2.7.3 in /usr/local/lib/python3.7/dist-packages (from pandas>=0.24->yfinance) (2.8.1)\n",
      "Requirement already satisfied: pytz>=2017.2 in /usr/local/lib/python3.7/dist-packages (from pandas>=0.24->yfinance) (2018.9)\n",
      "Requirement already satisfied: chardet<4,>=3.0.2 in /usr/local/lib/python3.7/dist-packages (from requests>=2.20->yfinance) (3.0.4)\n",
      "Requirement already satisfied: idna<3,>=2.5 in /usr/local/lib/python3.7/dist-packages (from requests>=2.20->yfinance) (2.10)\n",
      "Requirement already satisfied: urllib3!=1.25.0,!=1.25.1,<1.26,>=1.21.1 in /usr/local/lib/python3.7/dist-packages (from requests>=2.20->yfinance) (1.24.3)\n",
      "Requirement already satisfied: certifi>=2017.4.17 in /usr/local/lib/python3.7/dist-packages (from requests>=2.20->yfinance) (2020.12.5)\n",
      "Requirement already satisfied: six>=1.5 in /usr/local/lib/python3.7/dist-packages (from python-dateutil>=2.7.3->pandas>=0.24->yfinance) (1.15.0)\n",
      "Building wheels for collected packages: yfinance\n",
      "  Building wheel for yfinance (setup.py) ... \u001b[?25l\u001b[?25hdone\n",
      "  Created wheel for yfinance: filename=yfinance-0.1.55-py2.py3-none-any.whl size=22616 sha256=8048e3492825d68ba3eaa5ad1a02d26fc41f64d3ac648dd8228297cc63c021f1\n",
      "  Stored in directory: /root/.cache/pip/wheels/04/98/cc/2702a4242d60bdc14f48b4557c427ded1fe92aedf257d4565c\n",
      "Successfully built yfinance\n",
      "Installing collected packages: lxml, yfinance\n",
      "  Found existing installation: lxml 4.2.6\n",
      "    Uninstalling lxml-4.2.6:\n",
      "      Successfully uninstalled lxml-4.2.6\n",
      "Successfully installed lxml-4.6.2 yfinance-0.1.55\n",
      "Requirement already satisfied: requests in /usr/local/lib/python3.7/dist-packages (2.23.0)\n",
      "Requirement already satisfied: certifi>=2017.4.17 in /usr/local/lib/python3.7/dist-packages (from requests) (2020.12.5)\n",
      "Requirement already satisfied: chardet<4,>=3.0.2 in /usr/local/lib/python3.7/dist-packages (from requests) (3.0.4)\n",
      "Requirement already satisfied: urllib3!=1.25.0,!=1.25.1,<1.26,>=1.21.1 in /usr/local/lib/python3.7/dist-packages (from requests) (1.24.3)\n",
      "Requirement already satisfied: idna<3,>=2.5 in /usr/local/lib/python3.7/dist-packages (from requests) (2.10)\n",
      "Collecting datetime\n",
      "\u001b[?25l  Downloading https://files.pythonhosted.org/packages/73/22/a5297f3a1f92468cc737f8ce7ba6e5f245fcfafeae810ba37bd1039ea01c/DateTime-4.3-py2.py3-none-any.whl (60kB)\n",
      "\u001b[K     |████████████████████████████████| 61kB 3.1MB/s \n",
      "\u001b[?25hRequirement already satisfied: pytz in /usr/local/lib/python3.7/dist-packages (from datetime) (2018.9)\n",
      "Collecting zope.interface\n",
      "\u001b[?25l  Downloading https://files.pythonhosted.org/packages/f8/42/d8f11eaef844bee267821281fffe445e49cf31b486d72a81821a9d45cd0a/zope.interface-5.2.0-cp37-cp37m-manylinux2010_x86_64.whl (237kB)\n",
      "\u001b[K     |████████████████████████████████| 245kB 5.6MB/s \n",
      "\u001b[?25hRequirement already satisfied: setuptools in /usr/local/lib/python3.7/dist-packages (from zope.interface->datetime) (53.0.0)\n",
      "Installing collected packages: zope.interface, datetime\n",
      "Successfully installed datetime-4.3 zope.interface-5.2.0\n",
      "Requirement already satisfied: scipy in /usr/local/lib/python3.7/dist-packages (1.4.1)\n",
      "Requirement already satisfied: numpy>=1.13.3 in /usr/local/lib/python3.7/dist-packages (from scipy) (1.19.5)\n",
      "Requirement already satisfied: pandas in /usr/local/lib/python3.7/dist-packages (1.1.5)\n",
      "Requirement already satisfied: python-dateutil>=2.7.3 in /usr/local/lib/python3.7/dist-packages (from pandas) (2.8.1)\n",
      "Requirement already satisfied: numpy>=1.15.4 in /usr/local/lib/python3.7/dist-packages (from pandas) (1.19.5)\n",
      "Requirement already satisfied: pytz>=2017.2 in /usr/local/lib/python3.7/dist-packages (from pandas) (2018.9)\n",
      "Requirement already satisfied: six>=1.5 in /usr/local/lib/python3.7/dist-packages (from python-dateutil>=2.7.3->pandas) (1.15.0)\n",
      "Collecting bootstrap-stat\n",
      "  Downloading https://files.pythonhosted.org/packages/a2/c8/f9a24196b843be3ad50b0b34d5a2af571b49b1ac9b486a81fc7163f179d0/bootstrap_stat-0.2.4.2-py3-none-any.whl\n",
      "Collecting pathos>=0.2.5\n",
      "\u001b[?25l  Downloading https://files.pythonhosted.org/packages/10/9e/0100b1d500851fc8e093da5463ca38e013c86ea0855e7c510ca0d3e1f7c1/pathos-0.2.7-py2.py3-none-any.whl (81kB)\n",
      "\u001b[K     |████████████████████████████████| 81kB 3.4MB/s \n",
      "\u001b[?25hRequirement already satisfied: pandas>=0.25.1 in /usr/local/lib/python3.7/dist-packages (from bootstrap-stat) (1.1.5)\n",
      "Requirement already satisfied: scipy>=1.3 in /usr/local/lib/python3.7/dist-packages (from bootstrap-stat) (1.4.1)\n",
      "Requirement already satisfied: numpy>=1.17 in /usr/local/lib/python3.7/dist-packages (from bootstrap-stat) (1.19.5)\n",
      "Requirement already satisfied: multiprocess>=0.70.11 in /usr/local/lib/python3.7/dist-packages (from pathos>=0.2.5->bootstrap-stat) (0.70.11.1)\n",
      "Collecting ppft>=1.6.6.3\n",
      "\u001b[?25l  Downloading https://files.pythonhosted.org/packages/51/7b/e63dcf1f9b5ecd37691ee8a7029f71ddb7cafab780a60e312d913afc0f29/ppft-1.6.6.3-py3-none-any.whl (65kB)\n",
      "\u001b[K     |████████████████████████████████| 71kB 6.7MB/s \n",
      "\u001b[?25hCollecting pox>=0.2.9\n",
      "  Downloading https://files.pythonhosted.org/packages/6b/06/600e1b1103336ce94cf01e63a6c7b134f0edccf59bbf99189c975e2f257e/pox-0.2.9-py2.py3-none-any.whl\n",
      "Requirement already satisfied: dill>=0.3.3 in /usr/local/lib/python3.7/dist-packages (from pathos>=0.2.5->bootstrap-stat) (0.3.3)\n",
      "Requirement already satisfied: pytz>=2017.2 in /usr/local/lib/python3.7/dist-packages (from pandas>=0.25.1->bootstrap-stat) (2018.9)\n",
      "Requirement already satisfied: python-dateutil>=2.7.3 in /usr/local/lib/python3.7/dist-packages (from pandas>=0.25.1->bootstrap-stat) (2.8.1)\n",
      "Requirement already satisfied: six>=1.7.3 in /usr/local/lib/python3.7/dist-packages (from ppft>=1.6.6.3->pathos>=0.2.5->bootstrap-stat) (1.15.0)\n",
      "Installing collected packages: ppft, pox, pathos, bootstrap-stat\n",
      "Successfully installed bootstrap-stat-0.2.4.2 pathos-0.2.7 pox-0.2.9 ppft-1.6.6.3\n",
      "Collecting copulae\n",
      "\u001b[?25l  Downloading https://files.pythonhosted.org/packages/2d/2b/38f55fca97f88fbde75a438960f468a07eb978876d8cbc147c64ffb6f2cc/copulae-0.7.1-cp37-cp37m-manylinux1_x86_64.whl (2.0MB)\n",
      "\u001b[K     |████████████████████████████████| 2.0MB 4.3MB/s \n",
      "\u001b[?25hRequirement already satisfied: numpy>=1.19 in /usr/local/lib/python3.7/dist-packages (from copulae) (1.19.5)\n",
      "Collecting statsmodels>=0.12.1\n",
      "\u001b[?25l  Downloading https://files.pythonhosted.org/packages/da/69/8eef30a6237c54f3c0b524140e2975f4b1eea3489b45eb3339574fc8acee/statsmodels-0.12.2-cp37-cp37m-manylinux1_x86_64.whl (9.5MB)\n",
      "\u001b[K     |████████████████████████████████| 9.5MB 16.8MB/s \n",
      "\u001b[?25hRequirement already satisfied: typing-extensions>=3.7.4.3; python_version < \"3.8\" in /usr/local/lib/python3.7/dist-packages (from copulae) (3.7.4.3)\n",
      "Requirement already satisfied: wheel>=0.36 in /usr/local/lib/python3.7/dist-packages (from copulae) (0.36.2)\n",
      "Requirement already satisfied: wrapt>=1.12 in /usr/local/lib/python3.7/dist-packages (from copulae) (1.12.1)\n",
      "Collecting scipy>=1.5\n",
      "\u001b[?25l  Downloading https://files.pythonhosted.org/packages/b6/3a/9e0649ab2d5ade703baa70ef980aa08739226e5d6a642f084bb201a92fc2/scipy-1.6.1-cp37-cp37m-manylinux1_x86_64.whl (27.4MB)\n",
      "\u001b[K     |████████████████████████████████| 27.4MB 146kB/s \n",
      "\u001b[?25hRequirement already satisfied: pandas>=1.1 in /usr/local/lib/python3.7/dist-packages (from copulae) (1.1.5)\n",
      "Collecting scikit-learn>=0.23\n",
      "\u001b[?25l  Downloading https://files.pythonhosted.org/packages/f3/74/eb899f41d55f957e2591cde5528e75871f817d9fb46d4732423ecaca736d/scikit_learn-0.24.1-cp37-cp37m-manylinux2010_x86_64.whl (22.3MB)\n",
      "\u001b[K     |████████████████████████████████| 22.3MB 1.5MB/s \n",
      "\u001b[?25hRequirement already satisfied: patsy>=0.5 in /usr/local/lib/python3.7/dist-packages (from statsmodels>=0.12.1->copulae) (0.5.1)\n",
      "Requirement already satisfied: python-dateutil>=2.7.3 in /usr/local/lib/python3.7/dist-packages (from pandas>=1.1->copulae) (2.8.1)\n",
      "Requirement already satisfied: pytz>=2017.2 in /usr/local/lib/python3.7/dist-packages (from pandas>=1.1->copulae) (2018.9)\n",
      "Requirement already satisfied: joblib>=0.11 in /usr/local/lib/python3.7/dist-packages (from scikit-learn>=0.23->copulae) (1.0.1)\n",
      "Collecting threadpoolctl>=2.0.0\n",
      "  Downloading https://files.pythonhosted.org/packages/f7/12/ec3f2e203afa394a149911729357aa48affc59c20e2c1c8297a60f33f133/threadpoolctl-2.1.0-py3-none-any.whl\n",
      "Requirement already satisfied: six in /usr/local/lib/python3.7/dist-packages (from patsy>=0.5->statsmodels>=0.12.1->copulae) (1.15.0)\n",
      "\u001b[31mERROR: albumentations 0.1.12 has requirement imgaug<0.2.7,>=0.2.5, but you'll have imgaug 0.2.9 which is incompatible.\u001b[0m\n",
      "Installing collected packages: scipy, statsmodels, threadpoolctl, scikit-learn, copulae\n",
      "  Found existing installation: scipy 1.4.1\n",
      "    Uninstalling scipy-1.4.1:\n",
      "      Successfully uninstalled scipy-1.4.1\n",
      "  Found existing installation: statsmodels 0.10.2\n",
      "    Uninstalling statsmodels-0.10.2:\n",
      "      Successfully uninstalled statsmodels-0.10.2\n",
      "  Found existing installation: scikit-learn 0.22.2.post1\n",
      "    Uninstalling scikit-learn-0.22.2.post1:\n",
      "      Successfully uninstalled scikit-learn-0.22.2.post1\n",
      "Successfully installed copulae-0.7.1 scikit-learn-0.24.1 scipy-1.6.1 statsmodels-0.12.2 threadpoolctl-2.1.0\n"
     ]
    }
   ],
   "source": [
    "import sys\n",
    "!{sys.executable} -m pip install numpy\n",
    "!{sys.executable} -m pip install yfinance\n",
    "!{sys.executable} -m pip install requests \n",
    "!{sys.executable} -m pip install datetime\n",
    "!{sys.executable} -m pip install scipy\n",
    "!{sys.executable} -m pip install pandas\n",
    "!{sys.executable} -m pip install bootstrap-stat\n",
    "!{sys.executable} -m pip install copulae"
   ]
  },
  {
   "cell_type": "code",
   "execution_count": null,
   "metadata": {
    "id": "0HiQ-lHFaIDr"
   },
   "outputs": [],
   "source": [
    "import yfinance as yf\n",
    "import pandas as pd\n",
    "import numpy as np\n",
    "import datetime \n",
    "import requests\n",
    "from IPython.display import display, HTML, display_html\n",
    "from bootstrap_stat import bootstrap_stat as bp\n",
    "from scipy import stats\n",
    "import seaborn as sns\n",
    "import matplotlib.pyplot as plt\n",
    "from sklearn.linear_model import Lasso\n",
    "from sklearn.model_selection import train_test_split\n",
    "from sklearn.preprocessing import MinMaxScaler\n",
    "from sklearn.decomposition import PCA\n",
    "from sklearn import linear_model\n",
    "from sklearn.metrics import r2_score, accuracy_score\n",
    "from sklearn import tree\n",
    "from sklearn import svm\n",
    "\n",
    "import warnings\n",
    "warnings.filterwarnings('ignore')\n"
   ]
  },
  {
   "cell_type": "markdown",
   "metadata": {
    "id": "G0Zr73Zrj1F6"
   },
   "source": [
    "# 1. Data Importing\n",
    "## 1.1 Import 11 Select Spdrs (e.g. XLF, XLE, etc.).Some of this period did not include the Real Estate sector fund.  \n",
    "\n",
    "We will use 'XLB' SPDR Index for our research in this work.\n",
    "The Materials Select Sector Index (aka XLB) seeks to provide an effective representation of the materials sector of the S&P 500 Index. The Index includes companies from the following industries: chemicals; metals and mining; paper and forest products; containers and packaging; and construction materials.\n",
    "\n",
    "## 1.2 Import your equity ETF prices for 2014 - 2019."
   ]
  },
  {
   "cell_type": "code",
   "execution_count": null,
   "metadata": {
    "colab": {
     "base_uri": "https://localhost:8080/"
    },
    "id": "UjWvl1YjjGvb",
    "outputId": "4750bfff-98c7-4bf1-f9ca-9b15af7d6b22"
   },
   "outputs": [
    {
     "name": "stdout",
     "output_type": "stream",
     "text": [
      "[*********************100%***********************]  1 of 1 completed\n",
      "[*********************100%***********************]  1 of 1 completed\n",
      "[*********************100%***********************]  1 of 1 completed\n",
      "[*********************100%***********************]  1 of 1 completed\n",
      "[*********************100%***********************]  1 of 1 completed\n",
      "[*********************100%***********************]  1 of 1 completed\n",
      "[*********************100%***********************]  1 of 1 completed\n",
      "[*********************100%***********************]  1 of 1 completed\n",
      "[*********************100%***********************]  1 of 1 completed\n",
      "[*********************100%***********************]  1 of 1 completed\n",
      "[*********************100%***********************]  1 of 1 completed\n",
      "[*********************100%***********************]  1 of 1 completed\n"
     ]
    }
   ],
   "source": [
    "start_date = datetime.datetime(2014, 1, 1)\n",
    "end_date = datetime.datetime(2019, 12, 31)\n",
    "\n",
    "# using XLC (Communications Sector) as 11th SPDR in addition to https://www.sectorspdr.com/sectorspdr/\n",
    "# using FPX (First Trust US Equity Opportunities ETF) as US equity ETF\n",
    "\n",
    "symbols = ['XLB', 'XLC', 'XLI', 'XLE', 'XLY', 'XLP', \n",
    "           'XLV', 'XLF', 'XLK', 'XLU', 'XLRE', 'FPX']\n",
    "\n",
    "data = pd.DataFrame()\n",
    "\n",
    "for sym in symbols: \n",
    "  try: \n",
    "    fund = []\n",
    "    fund = yf.download(sym, start = start_date, end = end_date, progress = True)\n",
    "    if (len(fund) == 0):\n",
    "        None\n",
    "    else:\n",
    "        fund['Name'] = sym\n",
    "        data = data.append(fund, sort = False)\n",
    "  except Exception:\n",
    "    None\n"
   ]
  },
  {
   "cell_type": "code",
   "execution_count": null,
   "metadata": {
    "id": "e7QcYPIgYyOh"
   },
   "outputs": [],
   "source": [
    "data"
   ]
  },
  {
   "cell_type": "markdown",
   "metadata": {
    "id": "SruT7InzbX-8"
   },
   "source": [
    "# 2.1 Compute the daily returns of your Equity ETF and SPDRs"
   ]
  },
  {
   "cell_type": "code",
   "execution_count": null,
   "metadata": {
    "colab": {
     "base_uri": "https://localhost:8080/",
     "height": 431
    },
    "id": "J1cHRISPQZ5D",
    "outputId": "b48695a7-c560-4593-f81e-914b588db18e"
   },
   "outputs": [
    {
     "data": {
      "text/html": [
       "<div>\n",
       "<style scoped>\n",
       "    .dataframe tbody tr th:only-of-type {\n",
       "        vertical-align: middle;\n",
       "    }\n",
       "\n",
       "    .dataframe tbody tr th {\n",
       "        vertical-align: top;\n",
       "    }\n",
       "\n",
       "    .dataframe thead th {\n",
       "        text-align: right;\n",
       "    }\n",
       "</style>\n",
       "<table border=\"1\" class=\"dataframe\">\n",
       "  <thead>\n",
       "    <tr style=\"text-align: right;\">\n",
       "      <th>Name</th>\n",
       "      <th>FPX</th>\n",
       "      <th>XLB</th>\n",
       "      <th>XLC</th>\n",
       "      <th>XLE</th>\n",
       "      <th>XLF</th>\n",
       "      <th>XLI</th>\n",
       "      <th>XLK</th>\n",
       "      <th>XLP</th>\n",
       "      <th>XLRE</th>\n",
       "      <th>XLU</th>\n",
       "      <th>XLV</th>\n",
       "      <th>XLY</th>\n",
       "    </tr>\n",
       "    <tr>\n",
       "      <th>Date</th>\n",
       "      <th></th>\n",
       "      <th></th>\n",
       "      <th></th>\n",
       "      <th></th>\n",
       "      <th></th>\n",
       "      <th></th>\n",
       "      <th></th>\n",
       "      <th></th>\n",
       "      <th></th>\n",
       "      <th></th>\n",
       "      <th></th>\n",
       "      <th></th>\n",
       "    </tr>\n",
       "  </thead>\n",
       "  <tbody>\n",
       "    <tr>\n",
       "      <th>2018-06-20</th>\n",
       "      <td>0.003925</td>\n",
       "      <td>-0.003248</td>\n",
       "      <td>0.012410</td>\n",
       "      <td>0.004416</td>\n",
       "      <td>-0.002559</td>\n",
       "      <td>0.000683</td>\n",
       "      <td>0.002100</td>\n",
       "      <td>0.000979</td>\n",
       "      <td>0.010794</td>\n",
       "      <td>0.000797</td>\n",
       "      <td>0.002121</td>\n",
       "      <td>0.004742</td>\n",
       "    </tr>\n",
       "    <tr>\n",
       "      <th>2018-06-21</th>\n",
       "      <td>-0.010610</td>\n",
       "      <td>-0.010635</td>\n",
       "      <td>-0.006129</td>\n",
       "      <td>-0.018517</td>\n",
       "      <td>-0.002933</td>\n",
       "      <td>-0.012555</td>\n",
       "      <td>-0.007683</td>\n",
       "      <td>0.001957</td>\n",
       "      <td>0.005967</td>\n",
       "      <td>0.003385</td>\n",
       "      <td>-0.005762</td>\n",
       "      <td>-0.007123</td>\n",
       "    </tr>\n",
       "    <tr>\n",
       "      <th>2018-06-22</th>\n",
       "      <td>-0.004098</td>\n",
       "      <td>0.014563</td>\n",
       "      <td>0.004376</td>\n",
       "      <td>0.019952</td>\n",
       "      <td>-0.004779</td>\n",
       "      <td>0.003455</td>\n",
       "      <td>-0.003238</td>\n",
       "      <td>0.008202</td>\n",
       "      <td>0.008742</td>\n",
       "      <td>0.006944</td>\n",
       "      <td>0.004494</td>\n",
       "      <td>-0.001704</td>\n",
       "    </tr>\n",
       "    <tr>\n",
       "      <th>2018-06-25</th>\n",
       "      <td>-0.018518</td>\n",
       "      <td>-0.015550</td>\n",
       "      <td>-0.020598</td>\n",
       "      <td>-0.020094</td>\n",
       "      <td>-0.010713</td>\n",
       "      <td>-0.012671</td>\n",
       "      <td>-0.020763</td>\n",
       "      <td>0.005036</td>\n",
       "      <td>-0.002476</td>\n",
       "      <td>0.016552</td>\n",
       "      <td>-0.009184</td>\n",
       "      <td>-0.021739</td>\n",
       "    </tr>\n",
       "    <tr>\n",
       "      <th>2018-06-26</th>\n",
       "      <td>0.001537</td>\n",
       "      <td>0.003819</td>\n",
       "      <td>0.001658</td>\n",
       "      <td>0.012629</td>\n",
       "      <td>-0.003361</td>\n",
       "      <td>0.003766</td>\n",
       "      <td>0.004038</td>\n",
       "      <td>-0.004240</td>\n",
       "      <td>0.005275</td>\n",
       "      <td>0.001163</td>\n",
       "      <td>-0.003090</td>\n",
       "      <td>0.007162</td>\n",
       "    </tr>\n",
       "    <tr>\n",
       "      <th>...</th>\n",
       "      <td>...</td>\n",
       "      <td>...</td>\n",
       "      <td>...</td>\n",
       "      <td>...</td>\n",
       "      <td>...</td>\n",
       "      <td>...</td>\n",
       "      <td>...</td>\n",
       "      <td>...</td>\n",
       "      <td>...</td>\n",
       "      <td>...</td>\n",
       "      <td>...</td>\n",
       "      <td>...</td>\n",
       "    </tr>\n",
       "    <tr>\n",
       "      <th>2019-12-23</th>\n",
       "      <td>0.000372</td>\n",
       "      <td>0.002792</td>\n",
       "      <td>-0.002596</td>\n",
       "      <td>0.010267</td>\n",
       "      <td>-0.002282</td>\n",
       "      <td>0.008227</td>\n",
       "      <td>0.002859</td>\n",
       "      <td>-0.004279</td>\n",
       "      <td>-0.006015</td>\n",
       "      <td>-0.009289</td>\n",
       "      <td>0.003992</td>\n",
       "      <td>-0.002328</td>\n",
       "    </tr>\n",
       "    <tr>\n",
       "      <th>2019-12-24</th>\n",
       "      <td>0.001489</td>\n",
       "      <td>0.001147</td>\n",
       "      <td>-0.000186</td>\n",
       "      <td>-0.000484</td>\n",
       "      <td>0.002287</td>\n",
       "      <td>-0.004019</td>\n",
       "      <td>0.000329</td>\n",
       "      <td>0.001273</td>\n",
       "      <td>0.001316</td>\n",
       "      <td>0.001406</td>\n",
       "      <td>-0.001261</td>\n",
       "      <td>0.002253</td>\n",
       "    </tr>\n",
       "    <tr>\n",
       "      <th>2019-12-26</th>\n",
       "      <td>0.003593</td>\n",
       "      <td>0.004418</td>\n",
       "      <td>0.007624</td>\n",
       "      <td>-0.000323</td>\n",
       "      <td>0.005541</td>\n",
       "      <td>0.002323</td>\n",
       "      <td>0.007453</td>\n",
       "      <td>0.000954</td>\n",
       "      <td>0.006043</td>\n",
       "      <td>0.001717</td>\n",
       "      <td>-0.000680</td>\n",
       "      <td>0.012205</td>\n",
       "    </tr>\n",
       "    <tr>\n",
       "      <th>2019-12-27</th>\n",
       "      <td>-0.000370</td>\n",
       "      <td>-0.003747</td>\n",
       "      <td>-0.001845</td>\n",
       "      <td>-0.004198</td>\n",
       "      <td>-0.002593</td>\n",
       "      <td>-0.000854</td>\n",
       "      <td>-0.000109</td>\n",
       "      <td>0.004447</td>\n",
       "      <td>0.003656</td>\n",
       "      <td>0.002960</td>\n",
       "      <td>0.000291</td>\n",
       "      <td>-0.000079</td>\n",
       "    </tr>\n",
       "    <tr>\n",
       "      <th>2019-12-30</th>\n",
       "      <td>-0.010373</td>\n",
       "      <td>-0.003107</td>\n",
       "      <td>-0.010353</td>\n",
       "      <td>-0.003156</td>\n",
       "      <td>-0.002925</td>\n",
       "      <td>-0.004640</td>\n",
       "      <td>-0.005767</td>\n",
       "      <td>-0.005217</td>\n",
       "      <td>-0.000780</td>\n",
       "      <td>-0.000155</td>\n",
       "      <td>-0.006004</td>\n",
       "      <td>-0.006426</td>\n",
       "    </tr>\n",
       "  </tbody>\n",
       "</table>\n",
       "<p>385 rows × 12 columns</p>\n",
       "</div>"
      ],
      "text/plain": [
       "Name             FPX       XLB       XLC  ...       XLU       XLV       XLY\n",
       "Date                                      ...                              \n",
       "2018-06-20  0.003925 -0.003248  0.012410  ...  0.000797  0.002121  0.004742\n",
       "2018-06-21 -0.010610 -0.010635 -0.006129  ...  0.003385 -0.005762 -0.007123\n",
       "2018-06-22 -0.004098  0.014563  0.004376  ...  0.006944  0.004494 -0.001704\n",
       "2018-06-25 -0.018518 -0.015550 -0.020598  ...  0.016552 -0.009184 -0.021739\n",
       "2018-06-26  0.001537  0.003819  0.001658  ...  0.001163 -0.003090  0.007162\n",
       "...              ...       ...       ...  ...       ...       ...       ...\n",
       "2019-12-23  0.000372  0.002792 -0.002596  ... -0.009289  0.003992 -0.002328\n",
       "2019-12-24  0.001489  0.001147 -0.000186  ...  0.001406 -0.001261  0.002253\n",
       "2019-12-26  0.003593  0.004418  0.007624  ...  0.001717 -0.000680  0.012205\n",
       "2019-12-27 -0.000370 -0.003747 -0.001845  ...  0.002960  0.000291 -0.000079\n",
       "2019-12-30 -0.010373 -0.003107 -0.010353  ... -0.000155 -0.006004 -0.006426\n",
       "\n",
       "[385 rows x 12 columns]"
      ]
     },
     "metadata": {
      "tags": []
     },
     "output_type": "display_data"
    }
   ],
   "source": [
    "df = data[['Adj Close', 'Name']].pivot(columns='Name') \n",
    "df.columns = df.columns.droplevel(0)\n",
    "returns = df.pct_change().dropna()\n",
    "\n",
    "#returns = np.log1p(df.pct_change()).dropna() \n",
    "#returns = np.log2(df).diff().dropna()\n",
    "\n",
    "display(returns)"
   ]
  },
  {
   "cell_type": "markdown",
   "metadata": {
    "id": "tqeM9DiUlGE1"
   },
   "source": [
    "# 3. Data Summaries.   Extreme Values\n",
    "## 3.1\tCompute means.  Compute the 5% trimmed mean.  What points were considered outliers?\n"
   ]
  },
  {
   "cell_type": "code",
   "execution_count": null,
   "metadata": {
    "colab": {
     "base_uri": "https://localhost:8080/",
     "height": 432
    },
    "id": "YVaelqYFlryF",
    "outputId": "e62790bd-dbc4-4b29-a3a4-55ca526151e7"
   },
   "outputs": [
    {
     "data": {
      "text/html": [
       "<div>\n",
       "<style scoped>\n",
       "    .dataframe tbody tr th:only-of-type {\n",
       "        vertical-align: middle;\n",
       "    }\n",
       "\n",
       "    .dataframe tbody tr th {\n",
       "        vertical-align: top;\n",
       "    }\n",
       "\n",
       "    .dataframe thead th {\n",
       "        text-align: right;\n",
       "    }\n",
       "</style>\n",
       "<table border=\"1\" class=\"dataframe\">\n",
       "  <thead>\n",
       "    <tr style=\"text-align: right;\">\n",
       "      <th></th>\n",
       "      <th>mean</th>\n",
       "      <th>trim_mean</th>\n",
       "    </tr>\n",
       "    <tr>\n",
       "      <th>Name</th>\n",
       "      <th></th>\n",
       "      <th></th>\n",
       "    </tr>\n",
       "  </thead>\n",
       "  <tbody>\n",
       "    <tr>\n",
       "      <th>FPX</th>\n",
       "      <td>0.000304</td>\n",
       "      <td>0.000599</td>\n",
       "    </tr>\n",
       "    <tr>\n",
       "      <th>XLB</th>\n",
       "      <td>0.000247</td>\n",
       "      <td>0.000337</td>\n",
       "    </tr>\n",
       "    <tr>\n",
       "      <th>XLC</th>\n",
       "      <td>0.000287</td>\n",
       "      <td>0.000478</td>\n",
       "    </tr>\n",
       "    <tr>\n",
       "      <th>XLE</th>\n",
       "      <td>-0.000289</td>\n",
       "      <td>-0.000018</td>\n",
       "    </tr>\n",
       "    <tr>\n",
       "      <th>XLF</th>\n",
       "      <td>0.000434</td>\n",
       "      <td>0.000700</td>\n",
       "    </tr>\n",
       "    <tr>\n",
       "      <th>XLI</th>\n",
       "      <td>0.000417</td>\n",
       "      <td>0.000718</td>\n",
       "    </tr>\n",
       "    <tr>\n",
       "      <th>XLK</th>\n",
       "      <td>0.000780</td>\n",
       "      <td>0.001049</td>\n",
       "    </tr>\n",
       "    <tr>\n",
       "      <th>XLP</th>\n",
       "      <td>0.000683</td>\n",
       "      <td>0.000909</td>\n",
       "    </tr>\n",
       "    <tr>\n",
       "      <th>XLRE</th>\n",
       "      <td>0.000693</td>\n",
       "      <td>0.000936</td>\n",
       "    </tr>\n",
       "    <tr>\n",
       "      <th>XLU</th>\n",
       "      <td>0.000805</td>\n",
       "      <td>0.001061</td>\n",
       "    </tr>\n",
       "    <tr>\n",
       "      <th>XLV</th>\n",
       "      <td>0.000594</td>\n",
       "      <td>0.000836</td>\n",
       "    </tr>\n",
       "    <tr>\n",
       "      <th>XLY</th>\n",
       "      <td>0.000404</td>\n",
       "      <td>0.000571</td>\n",
       "    </tr>\n",
       "  </tbody>\n",
       "</table>\n",
       "</div>"
      ],
      "text/plain": [
       "          mean  trim_mean\n",
       "Name                     \n",
       "FPX   0.000304   0.000599\n",
       "XLB   0.000247   0.000337\n",
       "XLC   0.000287   0.000478\n",
       "XLE  -0.000289  -0.000018\n",
       "XLF   0.000434   0.000700\n",
       "XLI   0.000417   0.000718\n",
       "XLK   0.000780   0.001049\n",
       "XLP   0.000683   0.000909\n",
       "XLRE  0.000693   0.000936\n",
       "XLU   0.000805   0.001061\n",
       "XLV   0.000594   0.000836\n",
       "XLY   0.000404   0.000571"
      ]
     },
     "metadata": {
      "tags": []
     },
     "output_type": "display_data"
    }
   ],
   "source": [
    "metrics = pd.DataFrame()\n",
    "metrics['mean'] = returns.mean() \n",
    "metrics['trim_mean'] = stats.trim_mean(returns, 0.05)\n",
    "display(metrics)"
   ]
  },
  {
   "cell_type": "markdown",
   "metadata": {
    "id": "FuxBl_8vlI-C"
   },
   "source": [
    "## 3.2\tCompute the inter-quartile range.  Compute the standard deviation.  How do these relate?\n"
   ]
  },
  {
   "cell_type": "markdown",
   "metadata": {
    "id": "2NdDIOaL_94V"
   },
   "source": [
    "The interquartile range (IQR) is the difference between the 75th and 25th percentile of the data also known as a robust measure of scale. It is a measure of the dispersion similar to standard deviation or variance, but is much more robust against outliers. \n",
    "\n",
    "These robust estimator typically have inferior statistical efficiency compared to conventional estimators for data drawn from a distribution without outliers."
   ]
  },
  {
   "cell_type": "code",
   "execution_count": null,
   "metadata": {
    "colab": {
     "base_uri": "https://localhost:8080/",
     "height": 432
    },
    "id": "xLlr2Wpolse5",
    "outputId": "a1359c11-5814-41ca-8151-1e3cd9d7e580"
   },
   "outputs": [
    {
     "data": {
      "text/html": [
       "<div>\n",
       "<style scoped>\n",
       "    .dataframe tbody tr th:only-of-type {\n",
       "        vertical-align: middle;\n",
       "    }\n",
       "\n",
       "    .dataframe tbody tr th {\n",
       "        vertical-align: top;\n",
       "    }\n",
       "\n",
       "    .dataframe thead th {\n",
       "        text-align: right;\n",
       "    }\n",
       "</style>\n",
       "<table border=\"1\" class=\"dataframe\">\n",
       "  <thead>\n",
       "    <tr style=\"text-align: right;\">\n",
       "      <th></th>\n",
       "      <th>inter-quartile range</th>\n",
       "      <th>std_dev</th>\n",
       "    </tr>\n",
       "    <tr>\n",
       "      <th>Name</th>\n",
       "      <th></th>\n",
       "      <th></th>\n",
       "    </tr>\n",
       "  </thead>\n",
       "  <tbody>\n",
       "    <tr>\n",
       "      <th>FPX</th>\n",
       "      <td>0.011320</td>\n",
       "      <td>0.010758</td>\n",
       "    </tr>\n",
       "    <tr>\n",
       "      <th>XLB</th>\n",
       "      <td>0.013220</td>\n",
       "      <td>0.010633</td>\n",
       "    </tr>\n",
       "    <tr>\n",
       "      <th>XLC</th>\n",
       "      <td>0.011186</td>\n",
       "      <td>0.011813</td>\n",
       "    </tr>\n",
       "    <tr>\n",
       "      <th>XLE</th>\n",
       "      <td>0.014790</td>\n",
       "      <td>0.012911</td>\n",
       "    </tr>\n",
       "    <tr>\n",
       "      <th>XLF</th>\n",
       "      <td>0.010909</td>\n",
       "      <td>0.010525</td>\n",
       "    </tr>\n",
       "    <tr>\n",
       "      <th>XLI</th>\n",
       "      <td>0.010843</td>\n",
       "      <td>0.010713</td>\n",
       "    </tr>\n",
       "    <tr>\n",
       "      <th>XLK</th>\n",
       "      <td>0.012635</td>\n",
       "      <td>0.013135</td>\n",
       "    </tr>\n",
       "    <tr>\n",
       "      <th>XLP</th>\n",
       "      <td>0.008336</td>\n",
       "      <td>0.007528</td>\n",
       "    </tr>\n",
       "    <tr>\n",
       "      <th>XLRE</th>\n",
       "      <td>0.010369</td>\n",
       "      <td>0.008967</td>\n",
       "    </tr>\n",
       "    <tr>\n",
       "      <th>XLU</th>\n",
       "      <td>0.008749</td>\n",
       "      <td>0.008114</td>\n",
       "    </tr>\n",
       "    <tr>\n",
       "      <th>XLV</th>\n",
       "      <td>0.009210</td>\n",
       "      <td>0.009344</td>\n",
       "    </tr>\n",
       "    <tr>\n",
       "      <th>XLY</th>\n",
       "      <td>0.011387</td>\n",
       "      <td>0.010580</td>\n",
       "    </tr>\n",
       "  </tbody>\n",
       "</table>\n",
       "</div>"
      ],
      "text/plain": [
       "      inter-quartile range   std_dev\n",
       "Name                                \n",
       "FPX               0.011320  0.010758\n",
       "XLB               0.013220  0.010633\n",
       "XLC               0.011186  0.011813\n",
       "XLE               0.014790  0.012911\n",
       "XLF               0.010909  0.010525\n",
       "XLI               0.010843  0.010713\n",
       "XLK               0.012635  0.013135\n",
       "XLP               0.008336  0.007528\n",
       "XLRE              0.010369  0.008967\n",
       "XLU               0.008749  0.008114\n",
       "XLV               0.009210  0.009344\n",
       "XLY               0.011387  0.010580"
      ]
     },
     "execution_count": 9,
     "metadata": {
      "tags": []
     },
     "output_type": "execute_result"
    }
   ],
   "source": [
    "iqr_ = []\n",
    "for col in returns.columns:\n",
    "  iqr_.append(stats.iqr(returns[col].dropna()))\n",
    "\n",
    "metrics['inter-quartile range'] = iqr_\n",
    "metrics['std_dev'] = returns.std() \n",
    "metrics[['inter-quartile range', 'std_dev']]"
   ]
  },
  {
   "cell_type": "markdown",
   "metadata": {
    "id": "3Vv7_QoHlK_H"
   },
   "source": [
    "## 3.3\tCompute the median of each series.  Compare to the mean.  Compare this difference to the skewness.\n"
   ]
  },
  {
   "cell_type": "markdown",
   "metadata": {
    "id": "BjK-ny1UCNBx"
   },
   "source": [
    "Briefly speaking, the median is the value that splits the individual data set into two halves: the (approximately) 50% largest and 50% lowest. \n",
    "While mean is average value, i.e. is equal to the sum of all the values in the data set divided by the number of values in the data set. Mean is also refrenced as \"representative\" or central tendency. \n",
    "\n",
    "The skewness is a measure of the asymmetry of the probability distribution of a real-valued random variable about its mean:\n",
    "\n",
    "$$ \\bar \\mu_3 = \\frac{ \\sum_i^N (X_i - \\bar X)^3}{ (N-1) \\sigma^3} $$\n",
    "\n",
    "\n",
    "The median is called “robust against outliers“, whereas the mean actually is “sensitive to outliers“.\n",
    "Another time when when it's usually prefered the median over the mean (or mode) is when the data is skewed (i.e., the frequency distribution for our data is skewed)"
   ]
  },
  {
   "cell_type": "code",
   "execution_count": null,
   "metadata": {
    "colab": {
     "base_uri": "https://localhost:8080/",
     "height": 432
    },
    "id": "x19wWMmDltMz",
    "outputId": "83b4d47b-096d-407f-9ee1-c7d08d3b7c55"
   },
   "outputs": [
    {
     "data": {
      "text/html": [
       "<div>\n",
       "<style scoped>\n",
       "    .dataframe tbody tr th:only-of-type {\n",
       "        vertical-align: middle;\n",
       "    }\n",
       "\n",
       "    .dataframe tbody tr th {\n",
       "        vertical-align: top;\n",
       "    }\n",
       "\n",
       "    .dataframe thead th {\n",
       "        text-align: right;\n",
       "    }\n",
       "</style>\n",
       "<table border=\"1\" class=\"dataframe\">\n",
       "  <thead>\n",
       "    <tr style=\"text-align: right;\">\n",
       "      <th></th>\n",
       "      <th>median</th>\n",
       "      <th>mean</th>\n",
       "      <th>diff_mean_and_median</th>\n",
       "      <th>skewness</th>\n",
       "    </tr>\n",
       "    <tr>\n",
       "      <th>Name</th>\n",
       "      <th></th>\n",
       "      <th></th>\n",
       "      <th></th>\n",
       "      <th></th>\n",
       "    </tr>\n",
       "  </thead>\n",
       "  <tbody>\n",
       "    <tr>\n",
       "      <th>FPX</th>\n",
       "      <td>0.001194</td>\n",
       "      <td>0.000304</td>\n",
       "      <td>-0.000890</td>\n",
       "      <td>-0.296509</td>\n",
       "    </tr>\n",
       "    <tr>\n",
       "      <th>XLB</th>\n",
       "      <td>0.000725</td>\n",
       "      <td>0.000247</td>\n",
       "      <td>-0.000478</td>\n",
       "      <td>-0.032140</td>\n",
       "    </tr>\n",
       "    <tr>\n",
       "      <th>XLC</th>\n",
       "      <td>0.001085</td>\n",
       "      <td>0.000287</td>\n",
       "      <td>-0.000798</td>\n",
       "      <td>-0.164000</td>\n",
       "    </tr>\n",
       "    <tr>\n",
       "      <th>XLE</th>\n",
       "      <td>0.000458</td>\n",
       "      <td>-0.000289</td>\n",
       "      <td>-0.000747</td>\n",
       "      <td>-0.161747</td>\n",
       "    </tr>\n",
       "    <tr>\n",
       "      <th>XLF</th>\n",
       "      <td>0.001116</td>\n",
       "      <td>0.000434</td>\n",
       "      <td>-0.000682</td>\n",
       "      <td>-0.373972</td>\n",
       "    </tr>\n",
       "    <tr>\n",
       "      <th>XLI</th>\n",
       "      <td>0.000924</td>\n",
       "      <td>0.000417</td>\n",
       "      <td>-0.000506</td>\n",
       "      <td>-0.411650</td>\n",
       "    </tr>\n",
       "    <tr>\n",
       "      <th>XLK</th>\n",
       "      <td>0.001665</td>\n",
       "      <td>0.000780</td>\n",
       "      <td>-0.000884</td>\n",
       "      <td>-0.379470</td>\n",
       "    </tr>\n",
       "    <tr>\n",
       "      <th>XLP</th>\n",
       "      <td>0.000880</td>\n",
       "      <td>0.000683</td>\n",
       "      <td>-0.000197</td>\n",
       "      <td>-0.424363</td>\n",
       "    </tr>\n",
       "    <tr>\n",
       "      <th>XLRE</th>\n",
       "      <td>0.001529</td>\n",
       "      <td>0.000693</td>\n",
       "      <td>-0.000836</td>\n",
       "      <td>-0.558530</td>\n",
       "    </tr>\n",
       "    <tr>\n",
       "      <th>XLU</th>\n",
       "      <td>0.001361</td>\n",
       "      <td>0.000805</td>\n",
       "      <td>-0.000556</td>\n",
       "      <td>-0.774856</td>\n",
       "    </tr>\n",
       "    <tr>\n",
       "      <th>XLV</th>\n",
       "      <td>0.001175</td>\n",
       "      <td>0.000594</td>\n",
       "      <td>-0.000581</td>\n",
       "      <td>-0.275518</td>\n",
       "    </tr>\n",
       "    <tr>\n",
       "      <th>XLY</th>\n",
       "      <td>0.001324</td>\n",
       "      <td>0.000404</td>\n",
       "      <td>-0.000920</td>\n",
       "      <td>-0.030355</td>\n",
       "    </tr>\n",
       "  </tbody>\n",
       "</table>\n",
       "</div>"
      ],
      "text/plain": [
       "        median      mean  diff_mean_and_median  skewness\n",
       "Name                                                    \n",
       "FPX   0.001194  0.000304             -0.000890 -0.296509\n",
       "XLB   0.000725  0.000247             -0.000478 -0.032140\n",
       "XLC   0.001085  0.000287             -0.000798 -0.164000\n",
       "XLE   0.000458 -0.000289             -0.000747 -0.161747\n",
       "XLF   0.001116  0.000434             -0.000682 -0.373972\n",
       "XLI   0.000924  0.000417             -0.000506 -0.411650\n",
       "XLK   0.001665  0.000780             -0.000884 -0.379470\n",
       "XLP   0.000880  0.000683             -0.000197 -0.424363\n",
       "XLRE  0.001529  0.000693             -0.000836 -0.558530\n",
       "XLU   0.001361  0.000805             -0.000556 -0.774856\n",
       "XLV   0.001175  0.000594             -0.000581 -0.275518\n",
       "XLY   0.001324  0.000404             -0.000920 -0.030355"
      ]
     },
     "execution_count": 10,
     "metadata": {
      "tags": []
     },
     "output_type": "execute_result"
    }
   ],
   "source": [
    "metrics['median'] = returns.median()\n",
    "metrics['skewness'] = returns.skew() \n",
    "metrics['diff_mean_and_median'] = (metrics['mean'] - metrics['median'])\n",
    "metrics[['median','mean', 'diff_mean_and_median', 'skewness']]"
   ]
  },
  {
   "cell_type": "markdown",
   "metadata": {
    "id": "3xK499bWGbfw"
   },
   "source": [
    "\n",
    "* when mean is greater than median - skewness is negative, meaning the left tail is longer\n",
    "* when mean is less than median - skewness is positive, - right tail is longer\n",
    "* when mean is equal to median, skewness is 0, even though \n",
    "the skewness of normal distribution is also 0, this can not be used as fact of normal distribution of data set."
   ]
  },
  {
   "cell_type": "markdown",
   "metadata": {
    "id": "fkXQvoYjlMrG"
   },
   "source": [
    "## 3.4\tCompute the kurtosis. Bootstrap the standard deviation.  How does the volatility of the standard deviations estimate compare to the kurtosis?"
   ]
  },
  {
   "cell_type": "markdown",
   "metadata": {
    "id": "4T_YVMBEPvZh"
   },
   "source": [
    "First of all, kurtosis is a measure of the \"tailedness\"\n",
    "$$ \\mu_4 = \\frac{ \\sum_i^N (X_i - \\bar X)^4}{ (N-1) \\sigma^4} $$\n",
    "\n",
    "In other words the smaller standard deviation the bigger kurtosis i.e. higher peak. But in the real world, the standard deviation of population $\\sigma$ is always unknown, so the most common measurement is to find out how accurate it can be estimated. \n",
    "\n",
    "The core idea of bootstrap technique is to make certain kinds of statistical inferences based on the accuracy of estimates by calculating standard error.\n",
    "\n",
    "We will use empirical distribution function (EDF) for sampling the population and calculate kurtosis independently for each sampled index and then calculate standard error."
   ]
  },
  {
   "cell_type": "code",
   "execution_count": null,
   "metadata": {
    "colab": {
     "base_uri": "https://localhost:8080/",
     "height": 432
    },
    "id": "SeBeKQQoltwA",
    "outputId": "f36f0734-6b57-4783-c1f0-4b51defae9af"
   },
   "outputs": [
    {
     "data": {
      "text/html": [
       "<div>\n",
       "<style scoped>\n",
       "    .dataframe tbody tr th:only-of-type {\n",
       "        vertical-align: middle;\n",
       "    }\n",
       "\n",
       "    .dataframe tbody tr th {\n",
       "        vertical-align: top;\n",
       "    }\n",
       "\n",
       "    .dataframe thead th {\n",
       "        text-align: right;\n",
       "    }\n",
       "</style>\n",
       "<table border=\"1\" class=\"dataframe\">\n",
       "  <thead>\n",
       "    <tr style=\"text-align: right;\">\n",
       "      <th></th>\n",
       "      <th>excess_kurtosis</th>\n",
       "      <th>std_kurtosis_error</th>\n",
       "    </tr>\n",
       "    <tr>\n",
       "      <th>Name</th>\n",
       "      <th></th>\n",
       "      <th></th>\n",
       "    </tr>\n",
       "  </thead>\n",
       "  <tbody>\n",
       "    <tr>\n",
       "      <th>FPX</th>\n",
       "      <td>2.756766</td>\n",
       "      <td>0.886135</td>\n",
       "    </tr>\n",
       "    <tr>\n",
       "      <th>XLB</th>\n",
       "      <td>1.447250</td>\n",
       "      <td>0.540436</td>\n",
       "    </tr>\n",
       "    <tr>\n",
       "      <th>XLC</th>\n",
       "      <td>2.989709</td>\n",
       "      <td>0.818008</td>\n",
       "    </tr>\n",
       "    <tr>\n",
       "      <th>XLE</th>\n",
       "      <td>1.650201</td>\n",
       "      <td>0.884683</td>\n",
       "    </tr>\n",
       "    <tr>\n",
       "      <th>XLF</th>\n",
       "      <td>2.154771</td>\n",
       "      <td>0.622475</td>\n",
       "    </tr>\n",
       "    <tr>\n",
       "      <th>XLI</th>\n",
       "      <td>2.116711</td>\n",
       "      <td>0.623630</td>\n",
       "    </tr>\n",
       "    <tr>\n",
       "      <th>XLK</th>\n",
       "      <td>2.914714</td>\n",
       "      <td>0.715814</td>\n",
       "    </tr>\n",
       "    <tr>\n",
       "      <th>XLP</th>\n",
       "      <td>1.685463</td>\n",
       "      <td>0.466581</td>\n",
       "    </tr>\n",
       "    <tr>\n",
       "      <th>XLRE</th>\n",
       "      <td>1.756033</td>\n",
       "      <td>0.638819</td>\n",
       "    </tr>\n",
       "    <tr>\n",
       "      <th>XLU</th>\n",
       "      <td>2.854848</td>\n",
       "      <td>1.132516</td>\n",
       "    </tr>\n",
       "    <tr>\n",
       "      <th>XLV</th>\n",
       "      <td>2.515792</td>\n",
       "      <td>0.672311</td>\n",
       "    </tr>\n",
       "    <tr>\n",
       "      <th>XLY</th>\n",
       "      <td>3.510366</td>\n",
       "      <td>1.440170</td>\n",
       "    </tr>\n",
       "  </tbody>\n",
       "</table>\n",
       "</div>"
      ],
      "text/plain": [
       "      excess_kurtosis  std_kurtosis_error\n",
       "Name                                     \n",
       "FPX          2.756766            0.886135\n",
       "XLB          1.447250            0.540436\n",
       "XLC          2.989709            0.818008\n",
       "XLE          1.650201            0.884683\n",
       "XLF          2.154771            0.622475\n",
       "XLI          2.116711            0.623630\n",
       "XLK          2.914714            0.715814\n",
       "XLP          1.685463            0.466581\n",
       "XLRE         1.756033            0.638819\n",
       "XLU          2.854848            1.132516\n",
       "XLV          2.515792            0.672311\n",
       "XLY          3.510366            1.440170"
      ]
     },
     "execution_count": 11,
     "metadata": {
      "tags": []
     },
     "output_type": "execute_result"
    }
   ],
   "source": [
    "def index_kurtosis(df):\n",
    "     return stats.kurtosis(df)\n",
    "\n",
    "se = []\n",
    "# independently sample each index from data frame and calculate std error\n",
    "for index in returns.columns:\n",
    "  index_return = returns[index]\n",
    "  index_dist = bp.EmpiricalDistribution(index_return)\n",
    "  index_dist.sample(reset_index=False)\n",
    "  se.append(bp.standard_error(index_dist, index_kurtosis))\n",
    " \n",
    "# pandas calculates kurtosis of normal distibution as 0.0\n",
    "metrics['excess_kurtosis'] = returns.kurtosis() \n",
    "metrics['std_kurtosis_error'] = se\n",
    "metrics[['excess_kurtosis', 'std_kurtosis_error']]\n"
   ]
  },
  {
   "cell_type": "markdown",
   "metadata": {
    "id": "k2ii_6uUlONu"
   },
   "source": [
    "## 3.5\tWhat do these metrics infer about the data generation process?"
   ]
  },
  {
   "cell_type": "markdown",
   "metadata": {
    "id": "NsU0PCngmdy7"
   },
   "source": [
    "In our case standard error of the estimates is quite big which could be a sign of stong depnedancy on outliers. At the same time all indexes execess kurtosis of normal distribution."
   ]
  },
  {
   "cell_type": "markdown",
   "metadata": {
    "id": "pA_7DUPzKBrc"
   },
   "source": [
    "# 4. Data Inference"
   ]
  },
  {
   "cell_type": "markdown",
   "metadata": {
    "id": "yyXP7cGvlPP4"
   },
   "source": [
    "## 4.1\tPick 1 of the SPDRs.  Does a normal distribution fit this well?  Why or why not?\n"
   ]
  },
  {
   "cell_type": "markdown",
   "metadata": {
    "id": "tBr3sQEenWrf"
   },
   "source": [
    "We will pick 'XLF' SPDR index.\n",
    "\n",
    "For normality test we will use D’Agostino’s K-squared test which is based on kurtosis and skewness\n"
   ]
  },
  {
   "cell_type": "code",
   "execution_count": null,
   "metadata": {
    "colab": {
     "base_uri": "https://localhost:8080/",
     "height": 331
    },
    "id": "LwSVeS-WlvBI",
    "outputId": "53076f99-13ff-46fe-fc3f-4b0227d8a9b6"
   },
   "outputs": [
    {
     "data": {
      "image/png": "[encoded data removed]",
      "text/plain": [
       "<Figure size 1152x288 with 1 Axes>"
      ]
     },
     "metadata": {
      "needs_background": "light",
      "tags": []
     },
     "output_type": "display_data"
    },
    {
     "name": "stdout",
     "output_type": "stream",
     "text": [
      "XLF kurtosis: 2.155; skewness = -0.374\n",
      "XLF normal test statistic = 31.28338; pvalue = 0.00000\n",
      "XLF returns not normaly distributed\n"
     ]
    }
   ],
   "source": [
    "from scipy.stats import normaltest\n",
    "\n",
    "selected_index1 = 'XLF'\n",
    "\n",
    "significance_level = 0.05\n",
    "\n",
    "def plot_hist(index_name):\n",
    "  selected_return = returns[index_name]\n",
    "  fig, ax = plt.subplots(1,1, figsize=(16,4))\n",
    "  sns.histplot(selected_return, ax = ax)\n",
    "  ax.set_title('%s Histogram' % index_name)\n",
    "  ax.set_xlabel(None)\n",
    "  plt.show()\n",
    "\n",
    "def print_normaltest_result(index_name):\n",
    "  selected_return = returns[index_name]\n",
    "  statistic, pvalue = normaltest(selected_return) \n",
    "  print('%s kurtosis: %.3f; skewness = %.3f' % ( index_name,\n",
    "           metrics.at[index_name, 'excess_kurtosis'], \n",
    "           metrics.at[index_name, 'skewness']))\n",
    "  print('%s normal test statistic = %.5f; pvalue = %.5f' % ( index_name,\n",
    "                                                         statistic, pvalue))\n",
    "  if pvalue > significance_level:\n",
    "    print('Probably, %s returns are normally distributed' % index_name)\n",
    "  else:\n",
    "    print('%s returns not normaly distributed' % index_name)\n",
    "\n",
    "\n",
    "plot_hist(selected_index1)\n",
    "print_normaltest_result(selected_index1)\n"
   ]
  },
  {
   "cell_type": "markdown",
   "metadata": {
    "id": "2BlguxYyxhik"
   },
   "source": [
    "Null hypothesis using skewness/kurtosis testing showed that returns for XLF are not normally distributed "
   ]
  },
  {
   "cell_type": "markdown",
   "metadata": {
    "id": "LUKqxFjslcTZ"
   },
   "source": [
    "## 4.2\tPick a 2nd SPDR.  Repeat: Does a normal distribution fit this well?  Why or why not?\n"
   ]
  },
  {
   "cell_type": "markdown",
   "metadata": {
    "id": "xSkGHvMkxXvd"
   },
   "source": [
    "As second index we pick XLY - \n",
    "The Consumer Discretionary Select Sector Index includes companies from the following industries: retail (specialty, multiline, internet and direct marketing); hotels, restaurants and leisure; textiles, apparel and luxury goods; household durables; automobiles; auto components; distributors; leisure products; and diversified consumer services."
   ]
  },
  {
   "cell_type": "code",
   "execution_count": null,
   "metadata": {
    "colab": {
     "base_uri": "https://localhost:8080/",
     "height": 331
    },
    "id": "MEVLbINvlvoz",
    "outputId": "25322ef6-c3f9-4937-de7e-d80e28731361"
   },
   "outputs": [
    {
     "data": {
      "image/png": "[encoded data removed]",
      "text/plain": [
       "<Figure size 1152x288 with 1 Axes>"
      ]
     },
     "metadata": {
      "needs_background": "light",
      "tags": []
     },
     "output_type": "display_data"
    },
    {
     "name": "stdout",
     "output_type": "stream",
     "text": [
      "XLY kurtosis: 3.510; skewness = -0.030\n",
      "XLY normal test statistic = 36.79402; pvalue = 0.00000\n",
      "XLY returns not normaly distributed\n"
     ]
    }
   ],
   "source": [
    "selected_index2 = 'XLY'\n",
    "plot_hist(selected_index2)\n",
    "print_normaltest_result(selected_index2)"
   ]
  },
  {
   "cell_type": "markdown",
   "metadata": {
    "id": "mEwNOJ7vx4nB"
   },
   "source": [
    "Null hypothesis testing using skewness/kurtosis showed that returns for XLF are not normally distributed "
   ]
  },
  {
   "cell_type": "markdown",
   "metadata": {
    "id": "uXwthGRnldoL"
   },
   "source": [
    "## 4.3\tFind heavy-tailed distributions that can fit your choices from 4.1 and 4.2\n"
   ]
  },
  {
   "cell_type": "code",
   "execution_count": null,
   "metadata": {
    "colab": {
     "base_uri": "https://localhost:8080/",
     "height": 348
    },
    "id": "mrVGKwEHlwYY",
    "outputId": "c6feba10-e420-4fc7-aaec-ef3caca50d2f"
   },
   "outputs": [
    {
     "name": "stdout",
     "output_type": "stream",
     "text": [
      "The most heavy tailed index : XLB\n"
     ]
    },
    {
     "data": {
      "image/png": "[encoded data removed]",
      "text/plain": [
       "<Figure size 1152x288 with 1 Axes>"
      ]
     },
     "metadata": {
      "needs_background": "light",
      "tags": []
     },
     "output_type": "display_data"
    },
    {
     "name": "stdout",
     "output_type": "stream",
     "text": [
      "XLB kurtosis: 1.447; skewness = -0.032\n",
      "XLB normal test statistic = 14.29325; pvalue = 0.00079\n",
      "XLB returns not normaly distributed\n"
     ]
    }
   ],
   "source": [
    "heavy_tail_kurtosis = metrics['excess_kurtosis'].idxmin()\n",
    "print('The most heavy tailed index : %s' % heavy_tail_kurtosis )\n",
    "plot_hist(heavy_tail_kurtosis)\n",
    "print_normaltest_result(heavy_tail_kurtosis)"
   ]
  },
  {
   "cell_type": "markdown",
   "metadata": {
    "id": "KjmKxeuklfDr"
   },
   "source": [
    "# 4.4\tFor each of the series you modeled, which fits better: the Gaussian distribution or the heavy-tailed distribution.  Justify your reasoning."
   ]
  },
  {
   "cell_type": "markdown",
   "metadata": {
    "id": "yKxoLjuj2Y65"
   },
   "source": [
    "The closest fit to normal distribution was for XLB index with excess kurtosis (1.404 and skewness of -0.086); \n",
    "Other two index XLY ( kurtosis: 3.320; skewness = -0.115) and XLF (XLF kurtosis: 2.192; skewness = -0.437) showed worse result with normality checks"
   ]
  },
  {
   "cell_type": "markdown",
   "metadata": {
    "id": "rbyTUXFs3KEN"
   },
   "source": [
    "# 5. Data Comparison.  Copulas"
   ]
  },
  {
   "cell_type": "markdown",
   "metadata": {
    "id": "pYbBX8pzmTMz"
   },
   "source": [
    "## 5.1\tFit a Gaussian copula to the returns of those 2 SPDR series you selected in 4.1 and 4.2\n"
   ]
  },
  {
   "cell_type": "markdown",
   "metadata": {
    "id": "y-Y1FbudNWju"
   },
   "source": [
    "**Let**'s combine selected indexes XLF, XLY"
   ]
  },
  {
   "cell_type": "code",
   "execution_count": null,
   "metadata": {
    "colab": {
     "base_uri": "https://localhost:8080/",
     "height": 458
    },
    "id": "aPaxSReSNVnI",
    "outputId": "55c46db0-9074-4aa2-b0d9-f4367328bdef"
   },
   "outputs": [
    {
     "data": {
      "text/plain": [
       "<seaborn.axisgrid.JointGrid at 0x7fe77ed323d0>"
      ]
     },
     "execution_count": 15,
     "metadata": {
      "tags": []
     },
     "output_type": "execute_result"
    },
    {
     "data": {
      "image/png": "[encoded data removed]",
      "text/plain": [
       "<Figure size 432x432 with 3 Axes>"
      ]
     },
     "metadata": {
      "needs_background": "light",
      "tags": []
     },
     "output_type": "display_data"
    }
   ],
   "source": [
    "# combined series of returns\n",
    "combined_returns = returns[ [selected_index1, selected_index2] ]\n",
    "X1 = returns[selected_index1]\n",
    "X2 = returns[selected_index2]\n",
    "\n",
    "h = sns.jointplot(X1, X2, kind='kde', stat_func=None, height=6 )\n",
    "h.set_axis_labels(selected_index1, selected_index2)"
   ]
  },
  {
   "cell_type": "markdown",
   "metadata": {
    "id": "v1xpEqJ5T1ql"
   },
   "source": [
    "Now let's sample Gaussian multivariate distribution for selected indexes"
   ]
  },
  {
   "cell_type": "code",
   "execution_count": null,
   "metadata": {
    "colab": {
     "base_uri": "https://localhost:8080/",
     "height": 578
    },
    "id": "eZIsd-HSSfKs",
    "outputId": "bb3cee15-00a6-4bf4-8ab5-c5e5241b3c61"
   },
   "outputs": [
    {
     "data": {
      "text/html": [
       "\n",
       "<div>\n",
       "    <h2>Gaussian Copula Summary</h2>\n",
       "    <div>Gaussian Copula with 2 dimensions</div>\n",
       "    <hr/>\n",
       "    \n",
       "<div>\n",
       "    <h3>Parameters</h3>\n",
       "    <strong>Correlation Matrix</strong><table border=\"1\" class=\"dataframe\">\n",
       "  <tbody>\n",
       "    <tr>\n",
       "      <td>1.000000</td>\n",
       "      <td>0.708717</td>\n",
       "    </tr>\n",
       "    <tr>\n",
       "      <td>0.708717</td>\n",
       "      <td>1.000000</td>\n",
       "    </tr>\n",
       "  </tbody>\n",
       "</table>\n",
       "</div>\n",
       "\n",
       "    \n",
       "<div>\n",
       "    <h3>Fit Summary</h2>\n",
       "    <hr/>\n",
       "    <table>\n",
       "        <tr><th colspan=\"2\">Fit Summary</th></tr>\n",
       "        <tr><td>Log Likelihood</td><td>130.9039006804531</td></tr>\n",
       "        <tr><td>Variance Estimate</td><td>Not Implemented Yet</td></tr>\n",
       "        <tr><td>Method</td><td>Maximum likelihood</td></tr>\n",
       "        <tr><td>Data Points</td><td>385</td></tr>\n",
       "    </table>\n",
       "    <br/>\n",
       "    <table>\n",
       "        <tr><th colspan=\"2\">Optimization Setup</th><th colspan=\"2\">Results</th></tr>\n",
       "        <tr><td>bounds</td><td>[(-1.000001, 1.000001)]</td><td>x</td><td>[0.70871746]</td></tr><tr><td>options</td><td>{'maxiter': 20000, 'ftol': 1e-06, 'iprint': 1, 'disp': False, 'eps': 1.5e-08}</td><td>fun</td><td>-130.9039006804531</td></tr><tr><td>method</td><td>SLSQP</td><td>jac</td><td>[-0.06058561]</td></tr><tr><td>None</td><td>None</td><td>nit</td><td>5</td></tr><tr><td>None</td><td>None</td><td>nfev</td><td>12</td></tr><tr><td>None</td><td>None</td><td>njev</td><td>5</td></tr><tr><td>None</td><td>None</td><td>status</td><td>0</td></tr><tr><td>None</td><td>None</td><td>message</td><td>Optimization terminated successfully</td></tr><tr><td>None</td><td>None</td><td>success</td><td>True</td></tr>\n",
       "    </table>\n",
       "</div>\n",
       "        \n",
       "</div>\n"
      ],
      "text/plain": [
       "Gaussian Copula Summary\n",
       "================================================================================\n",
       "Gaussian Copula with 2 dimensions\n",
       "\n",
       "\n",
       "Parameters\n",
       "--------------------------------------------------------------------------------\n",
       " Correlation Matrix \n",
       " 1.000000  0.708717\n",
       " 0.708717  1.000000\n",
       "\n",
       "\n",
       "\n",
       "                                  Fit Summary                                   \n",
       "================================================================================\n",
       "Log. Likelihood      : 130.9039006804531\n",
       "Variance Estimate    : Not Implemented Yet\n",
       "Method               : Maximum likelihood\n",
       "Data Points          : 385\n",
       "\n",
       "Optimization Setup\n",
       "--------------------------------------------------------------------------------\n",
       "\tbounds         : [(-1.000001, 1.000001)]\n",
       "\toptions        : {'maxiter': 20000, 'ftol': 1e-06, 'iprint': 1, 'disp': False, 'eps': 1.5e-08}\n",
       "\tmethod         : SLSQP\n",
       "\n",
       "Results\n",
       "--------------------------------------------------------------------------------\n",
       "\tx              : [0.70871746]\n",
       "\tfun            : -130.9039006804531\n",
       "\tjac            : [-0.06058561]\n",
       "\tnit            : 5\n",
       "\tnfev           : 12\n",
       "\tnjev           : 5\n",
       "\tstatus         : 0\n",
       "\tmessage        : Optimization terminated successfully\n",
       "\tsuccess        : True"
      ]
     },
     "execution_count": 16,
     "metadata": {
      "tags": []
     },
     "output_type": "execute_result"
    }
   ],
   "source": [
    "from copulae import GaussianCopula\n",
    "\n",
    "copula = GaussianCopula()\n",
    "copula.fit(combined_returns)\n",
    "copula.summary()"
   ]
  },
  {
   "cell_type": "markdown",
   "metadata": {
    "id": "CIT24rmymZDF"
   },
   "source": [
    "## 5.2\tFit a non-Gaussian copula to the returns of those 2 series.  Some possibilities are Student's T, Clayton, Gumbel, choose your own, …\n"
   ]
  },
  {
   "cell_type": "code",
   "execution_count": null,
   "metadata": {
    "colab": {
     "base_uri": "https://localhost:8080/",
     "height": 499
    },
    "id": "9FwQi9jgnMax",
    "outputId": "05dfa8e6-2487-44d2-d5fd-e15f388b01d5"
   },
   "outputs": [
    {
     "data": {
      "text/html": [
       "\n",
       "<div>\n",
       "    <h2>Clayton Copula Summary</h2>\n",
       "    <div>Clayton Copula with 2 dimensions</div>\n",
       "    <hr/>\n",
       "    \n",
       "<div>\n",
       "    <h3>Parameters</h3>\n",
       "    <strong>theta</strong><span>1.6248774543438957</span>\n",
       "</div>\n",
       "\n",
       "    \n",
       "<div>\n",
       "    <h3>Fit Summary</h2>\n",
       "    <hr/>\n",
       "    <table>\n",
       "        <tr><th colspan=\"2\">Fit Summary</th></tr>\n",
       "        <tr><td>Log Likelihood</td><td>127.46613314729024</td></tr>\n",
       "        <tr><td>Variance Estimate</td><td>Not Implemented Yet</td></tr>\n",
       "        <tr><td>Method</td><td>Maximum likelihood</td></tr>\n",
       "        <tr><td>Data Points</td><td>385</td></tr>\n",
       "    </table>\n",
       "    <br/>\n",
       "    <table>\n",
       "        <tr><th colspan=\"2\">Optimization Setup</th><th colspan=\"2\">Results</th></tr>\n",
       "        <tr><td>options</td><td>{'maxiter': 20000, 'disp': False, 'xatol': 0.0001, 'fatol': 0.0001}</td><td>fun</td><td>-127.46613314729024</td></tr><tr><td>method</td><td>Nelder-Mead</td><td>nit</td><td>13</td></tr><tr><td>None</td><td>None</td><td>nfev</td><td>26</td></tr><tr><td>None</td><td>None</td><td>status</td><td>0</td></tr><tr><td>None</td><td>None</td><td>success</td><td>True</td></tr><tr><td>None</td><td>None</td><td>message</td><td>Optimization terminated successfully.</td></tr><tr><td>None</td><td>None</td><td>x</td><td>[1.62487745]</td></tr><tr><td>None</td><td>None</td><td>final_simplex</td><td>(array([[1.62487745],\n",
       "       [1.62478575]]), array([-127.46613315, -127.46613294]))</td></tr>\n",
       "    </table>\n",
       "</div>\n",
       "        \n",
       "</div>\n"
      ],
      "text/plain": [
       "Clayton Copula Summary\n",
       "================================================================================\n",
       "Clayton Copula with 2 dimensions\n",
       "\n",
       "\n",
       "Parameters\n",
       "--------------------------------------------------------------------------------\n",
       "       theta        : 1.6248774543438957\n",
       "\n",
       "\n",
       "\n",
       "                                  Fit Summary                                   \n",
       "================================================================================\n",
       "Log. Likelihood      : 127.46613314729024\n",
       "Variance Estimate    : Not Implemented Yet\n",
       "Method               : Maximum likelihood\n",
       "Data Points          : 385\n",
       "\n",
       "Optimization Setup\n",
       "--------------------------------------------------------------------------------\n",
       "\toptions        : {'maxiter': 20000, 'disp': False, 'xatol': 0.0001, 'fatol': 0.0001}\n",
       "\tmethod         : Nelder-Mead\n",
       "\n",
       "Results\n",
       "--------------------------------------------------------------------------------\n",
       "\tfun            : -127.46613314729024\n",
       "\tnit            : 13\n",
       "\tnfev           : 26\n",
       "\tstatus         : 0\n",
       "\tsuccess        : True\n",
       "\tmessage        : Optimization terminated successfully.\n",
       "\tx              : [1.62487745]"
      ]
     },
     "execution_count": 17,
     "metadata": {
      "tags": []
     },
     "output_type": "execute_result"
    }
   ],
   "source": [
    "from copulae import ClaytonCopula\n",
    "\n",
    "copula = ClaytonCopula(dim=2)\n",
    "copula.fit(combined_returns)\n",
    "copula.summary()"
   ]
  },
  {
   "cell_type": "code",
   "execution_count": null,
   "metadata": {
    "colab": {
     "base_uri": "https://localhost:8080/"
    },
    "id": "eOm9am9gCUli",
    "outputId": "2750d1b8-d152-4dfc-b662-ed6e02022495"
   },
   "outputs": [
    {
     "name": "stdout",
     "output_type": "stream",
     "text": [
      "Clayton copula Kendalls tau 0.4483 \n"
     ]
    }
   ],
   "source": [
    "print('Clayton copula Kendalls tau %.4f ' % copula.tau)"
   ]
  },
  {
   "cell_type": "markdown",
   "metadata": {
    "id": "NcSM87AsmbDf"
   },
   "source": [
    "## 5.3\tExplain how you came up with the value of the correlation for each copula.\n"
   ]
  },
  {
   "cell_type": "markdown",
   "metadata": {
    "id": "xYNmT7e83fnY"
   },
   "source": [
    "Guassian copula is non-Archimedian copula, based on correlation matrix, which in our case is quite high 0.708. This linear correlation imposes a strong dependency on XLF and XLY returns.\n",
    "\n",
    "Clayton copula on the other side is an asymmetric Archimedean copula, exhibiting greater dependence in the negative tail than in the positive. Kendall's tau calculated for the model is 0.4483, which represents the existence of linear correlation between returns for XLF and XLY. \n",
    "\n",
    "Kendall’s tau defines the rank correlations and take values in [−1, 1]:\n",
    "• 0 for independent random variables.\n",
    "• 1 when as X1 and X2 are comonotonic.\n",
    "• −1 when X1 and X2 are countermonotonic\n"
   ]
  },
  {
   "cell_type": "markdown",
   "metadata": {
    "id": "fZM9TwJfmcbc"
   },
   "source": [
    "## 5.4\tWhich of the 2 copula models do you prefer?  Explain your answer in quantitative terms."
   ]
  },
  {
   "cell_type": "markdown",
   "metadata": {
    "id": "0PtD38L56DcC"
   },
   "source": [
    "The log-likelihood can be used to compare the relative goodness-of-fit of differing models. While Clayton model has log likelihood as 127.466, the Gaussian model shows better fit results with log likelihood as 130.903.\n",
    "\n",
    "Even though Clayton copula fits slightly worse, still, it is attractive because it characterized by a scalar parameter Theta=1.625 which can be related to a rank correlation coefficient (Spearman's rho). The\n",
    "Clayton copula traces the countermonotonic, independence and comonotonic copulas as Theta moves from −1 through 0 to $\\infty$. "
   ]
  },
  {
   "cell_type": "markdown",
   "metadata": {
    "id": "Hp0wi_jiYdRD"
   },
   "source": [
    "# 6. Category 1 Models: Lasso and PCA - Run 6 different models"
   ]
  },
  {
   "cell_type": "markdown",
   "metadata": {
    "id": "QY1SipqOm_1_"
   },
   "source": [
    "## 6.1\tRun a LASSO regression using your equity fund as the y variable, and up to the 4 or 5 best SPDR ETFs as potential explanatory variables.\n"
   ]
  },
  {
   "cell_type": "markdown",
   "metadata": {
    "id": "ZjTw7gxx3BUk"
   },
   "source": [
    "We will use follwing 5 symbols: XLB, XLC, XLI, XLE, XLY"
   ]
  },
  {
   "cell_type": "code",
   "execution_count": null,
   "metadata": {
    "id": "zeXHcyea3TGy"
   },
   "outputs": [],
   "source": [
    "lasso_symbols = ['XLB', 'XLC', 'XLI', 'XLE', 'XLY']\n",
    "X_lasso = returns[lasso_symbols]\n",
    "Y_lasso = returns[selected_index1]"
   ]
  },
  {
   "cell_type": "markdown",
   "metadata": {
    "id": "uDjDI1uD3dme"
   },
   "source": [
    "Now we fit the model to LASSO and check weighted coefficients"
   ]
  },
  {
   "cell_type": "code",
   "execution_count": null,
   "metadata": {
    "colab": {
     "base_uri": "https://localhost:8080/"
    },
    "id": "6QpkrezFnPl2",
    "outputId": "fe4f48dc-fa50-4226-c1f0-f099b261b29c"
   },
   "outputs": [
    {
     "name": "stdout",
     "output_type": "stream",
     "text": [
      "Regression LASSO R^2 score : 66.3572\n"
     ]
    }
   ],
   "source": [
    "def calc_lasso(X, Y):\n",
    "  lasso = Lasso(alpha=0.000015)\n",
    "  lasso.fit(X, Y)\n",
    "  lasso_coeff = pd.DataFrame(data=lasso.coef_, \n",
    "                          columns={'coefficients'}, \n",
    "                          index=X.columns.to_list())\n",
    "  \n",
    "  Y_lasso_predicted = lasso.predict(X)\n",
    "  a_score = r2_score(Y, Y_lasso_predicted)*100\n",
    "  print('Regression LASSO R^2 score : %.4f' % a_score )\n",
    "  return lasso_coeff\n",
    "\n",
    "\n",
    "lasso_coeff = calc_lasso(X_lasso, Y_lasso)"
   ]
  },
  {
   "cell_type": "code",
   "execution_count": null,
   "metadata": {
    "colab": {
     "base_uri": "https://localhost:8080/",
     "height": 212
    },
    "id": "iWuRH1vpwo4Z",
    "outputId": "ce4cde48-7859-4d0b-c499-b7bfa4171987"
   },
   "outputs": [
    {
     "name": "stdout",
     "output_type": "stream",
     "text": [
      "Lasso coefficients for XLF\n"
     ]
    },
    {
     "data": {
      "text/html": [
       "<div>\n",
       "<style scoped>\n",
       "    .dataframe tbody tr th:only-of-type {\n",
       "        vertical-align: middle;\n",
       "    }\n",
       "\n",
       "    .dataframe tbody tr th {\n",
       "        vertical-align: top;\n",
       "    }\n",
       "\n",
       "    .dataframe thead th {\n",
       "        text-align: right;\n",
       "    }\n",
       "</style>\n",
       "<table border=\"1\" class=\"dataframe\">\n",
       "  <thead>\n",
       "    <tr style=\"text-align: right;\">\n",
       "      <th></th>\n",
       "      <th>coefficients</th>\n",
       "    </tr>\n",
       "  </thead>\n",
       "  <tbody>\n",
       "    <tr>\n",
       "      <th>XLB</th>\n",
       "      <td>0.043872</td>\n",
       "    </tr>\n",
       "    <tr>\n",
       "      <th>XLC</th>\n",
       "      <td>0.005196</td>\n",
       "    </tr>\n",
       "    <tr>\n",
       "      <th>XLI</th>\n",
       "      <td>0.387707</td>\n",
       "    </tr>\n",
       "    <tr>\n",
       "      <th>XLE</th>\n",
       "      <td>0.103382</td>\n",
       "    </tr>\n",
       "    <tr>\n",
       "      <th>XLY</th>\n",
       "      <td>0.174732</td>\n",
       "    </tr>\n",
       "  </tbody>\n",
       "</table>\n",
       "</div>"
      ],
      "text/plain": [
       "     coefficients\n",
       "XLB      0.043872\n",
       "XLC      0.005196\n",
       "XLI      0.387707\n",
       "XLE      0.103382\n",
       "XLY      0.174732"
      ]
     },
     "metadata": {
      "tags": []
     },
     "output_type": "display_data"
    }
   ],
   "source": [
    "print(\"Lasso coefficients for %s\" % selected_index1)\n",
    "display(lasso_coeff)"
   ]
  },
  {
   "cell_type": "markdown",
   "metadata": {
    "id": "NRoMvfNYnCqG"
   },
   "source": [
    "## 6.2\tRun a PCA regression using the CORRELATION matrix of 11 Select SPDRs.  Transform the explanatory space from 11 dimensions to a smaller number, based on the consolidation of variance explained in the first N components.\n"
   ]
  },
  {
   "cell_type": "markdown",
   "metadata": {
    "id": "S7TKXUvFrLj4"
   },
   "source": [
    "First of all we define all 11 SPDRS as explanatory space for our XLF index"
   ]
  },
  {
   "cell_type": "code",
   "execution_count": null,
   "metadata": {
    "id": "13KxPrdTrabv"
   },
   "outputs": [],
   "source": [
    "X = returns.drop(columns=selected_index1)\n",
    "Y = returns[selected_index1]"
   ]
  },
  {
   "cell_type": "markdown",
   "metadata": {
    "id": "Y5ZyZdRFog1n"
   },
   "source": [
    "Using the correlation matrix is equivalent to standardizing each of the variables (to mean 0 and standard deviation 1). In general, PCA with and without standardizing will give different results. Especially when the scales are different.\n"
   ]
  },
  {
   "cell_type": "code",
   "execution_count": null,
   "metadata": {
    "id": "j4oeg9nPnQN3"
   },
   "outputs": [],
   "source": [
    "def calc_pca_correlation(X, Y, N):\n",
    "  # normalize X for std 1\n",
    "  min_max_scaler = MinMaxScaler()\n",
    "  X_minmax = min_max_scaler.fit_transform(X)\n",
    "\n",
    "  pca = PCA()\n",
    "  pca.fit(X_minmax)\n",
    "  projection = pca.transform(X_minmax)\n",
    "  projection_N = projection[:, :N]\n",
    "\n",
    "  regr = linear_model.LinearRegression()\n",
    "  regr.fit(projection_N, Y)\n",
    "  r2 = regr.score(projection_N, Y) * 100\n",
    "  print('Regression PCA (Correlation matrix) - R^2 score : %.4f' % r2 )\n",
    "  return pca"
   ]
  },
  {
   "cell_type": "markdown",
   "metadata": {
    "id": "KjQdT4VrlMhg"
   },
   "source": [
    "Let's have a look if 5 variables sufficiently describe the variance of XLF:"
   ]
  },
  {
   "cell_type": "code",
   "execution_count": null,
   "metadata": {
    "colab": {
     "base_uri": "https://localhost:8080/",
     "height": 298
    },
    "id": "YnYjBfXelLf1",
    "outputId": "a8c1b673-5d12-4051-ea32-c93362f1721a"
   },
   "outputs": [
    {
     "name": "stdout",
     "output_type": "stream",
     "text": [
      "Regression PCA (Correlation matrix) - R^2 score : 69.7487\n"
     ]
    },
    {
     "data": {
      "image/png": "[encoded data removed]",
      "text/plain": [
       "<Figure size 1152x288 with 1 Axes>"
      ]
     },
     "metadata": {
      "needs_background": "light",
      "tags": []
     },
     "output_type": "display_data"
    }
   ],
   "source": [
    "pca = calc_pca_correlation(X, Y, 10)\n",
    "\n",
    "all_variances = pca.explained_variance_ratio_\n",
    "selected_variances = all_variances[:5]\n",
    "selected_indexes = np.arange(1, len(selected_variances) + 1)\n",
    "\n",
    "fig, ax = plt.subplots(figsize=(16,4))\n",
    "ax.stem(selected_indexes, selected_variances, use_line_collection=True)\n",
    "plt.title('Individual Variance explained by first 5 components')\n",
    "plt.show()"
   ]
  },
  {
   "cell_type": "markdown",
   "metadata": {
    "id": "V-AzqWn6lcv3"
   },
   "source": [
    "Looks like 5 is more than sufficient"
   ]
  },
  {
   "cell_type": "code",
   "execution_count": null,
   "metadata": {
    "colab": {
     "base_uri": "https://localhost:8080/"
    },
    "id": "eynyZee1i-Ta",
    "outputId": "c23294cb-2756-404e-9ae4-b7dee76b0b33"
   },
   "outputs": [
    {
     "name": "stdout",
     "output_type": "stream",
     "text": [
      "Regression PCA (Correlation matrix) - R^2 score : 68.2360\n"
     ]
    }
   ],
   "source": [
    "N = 5\n",
    "calc_pca_correlation(X, Y, N)\n",
    "None"
   ]
  },
  {
   "cell_type": "markdown",
   "metadata": {
    "id": "8DY8R-GVnEBt"
   },
   "source": [
    "## 6.3\tRun another PCA regression using the COVARIANCE matrix of 11 Select SPDRs.  Transform the explanatory space from 11 dimensions to a smaller number, based on the consolidation of variance explained in the first N components.\n"
   ]
  },
  {
   "cell_type": "markdown",
   "metadata": {
    "id": "_R49pWYUrzR8"
   },
   "source": [
    "By default PCA works on covariance matrix, ie. we can leave our data unscaled"
   ]
  },
  {
   "cell_type": "code",
   "execution_count": null,
   "metadata": {
    "colab": {
     "base_uri": "https://localhost:8080/"
    },
    "id": "zsIMwVL1nQ6J",
    "outputId": "07942dcd-76d0-4dbf-a379-8c5a22777a68"
   },
   "outputs": [
    {
     "name": "stdout",
     "output_type": "stream",
     "text": [
      "Regression PCA (Covariance matrix) - R^2 score : 68.0638\n"
     ]
    }
   ],
   "source": [
    "def calc_pca_covaraince(X, Y, N):\n",
    "  pca = PCA()\n",
    "  pca.fit(X)\n",
    "  projection = pca.transform(X)\n",
    "  projection_N = projection[:, :N]\n",
    "\n",
    "  regr = linear_model.LinearRegression()\n",
    "  regr.fit(projection_N, Y)\n",
    "  r2 = regr.score(projection_N, Y) * 100\n",
    "  print('Regression PCA (Covariance matrix) - R^2 score : %.4f' % r2 )\n",
    "\n",
    "calc_pca_covaraince(X, Y, N)"
   ]
  },
  {
   "cell_type": "markdown",
   "metadata": {
    "id": "l5mVd_9XnFtK"
   },
   "source": [
    "## 6.4\tRepeat 6.1, 6.2 and 6.3 without using the extreme 5% values of the data.\n"
   ]
  },
  {
   "cell_type": "markdown",
   "metadata": {
    "id": "U77NWiD-1V7E"
   },
   "source": [
    "Let's remove outliers by filtering distribution with Z-score, where -1.96 < x < 1.96 covers 95% "
   ]
  },
  {
   "cell_type": "code",
   "execution_count": null,
   "metadata": {
    "colab": {
     "base_uri": "https://localhost:8080/"
    },
    "id": "Gs9rLcZVzhxs",
    "outputId": "16340853-a9d8-4bf6-cf53-a5fc67c69d63"
   },
   "outputs": [
    {
     "name": "stdout",
     "output_type": "stream",
     "text": [
      "Following dates have been excluded: \n",
      "DatetimeIndex(['2018-07-09', '2018-10-10', '2018-10-11', '2018-10-22',\n",
      "               '2018-10-24', '2018-11-20', '2018-12-04', '2018-12-24',\n",
      "               '2018-12-26', '2019-01-03', '2019-01-04', '2019-01-16',\n",
      "               '2019-02-15', '2019-03-20', '2019-03-22', '2019-04-01',\n",
      "               '2019-05-13', '2019-06-04', '2019-08-01', '2019-08-05',\n",
      "               '2019-08-14', '2019-08-23', '2019-10-01', '2019-10-02'],\n",
      "              dtype='datetime64[ns]', name='Date', freq=None)\n"
     ]
    }
   ],
   "source": [
    "# remove all the row with outliers of 95%\n",
    "z_threshold = 1.96\n",
    "\n",
    "# removes for all columns\n",
    "#returns_adj = returns[(np.abs(stats.zscore(returns)) <= z_threshold).all(axis=1)]\n",
    "returns_adj = returns[(np.abs(stats.zscore(returns[selected_index1])) \\\n",
    "                         <= z_threshold)]\n",
    "\n",
    "idx = returns.index.difference(returns_adj.index)\n",
    "print(\"Following dates have been excluded: \\n%s\" % idx)"
   ]
  },
  {
   "cell_type": "code",
   "execution_count": null,
   "metadata": {
    "colab": {
     "base_uri": "https://localhost:8080/"
    },
    "id": "CogQsKKNALU3",
    "outputId": "bdd53d97-f38b-496e-991e-7a4e4d8ad124"
   },
   "outputs": [
    {
     "name": "stdout",
     "output_type": "stream",
     "text": [
      "Lasso, PCA (corr) & PCA(cov) after removing ourliers\n",
      "Regression LASSO R^2 score : 47.7511\n",
      "Regression PCA (Correlation matrix) - R^2 score : 54.9041\n",
      "Regression PCA (Covariance matrix) - R^2 score : 53.6982\n"
     ]
    }
   ],
   "source": [
    "X_adj = returns_adj.drop(columns=selected_index1)\n",
    "Y_adj = returns_adj[selected_index1]\n",
    "\n",
    "X_adj_lasso = returns_adj[lasso_symbols]\n",
    "Y_adj_lasso = returns_adj[selected_index1]\n",
    "\n",
    "print(\"Lasso, PCA (corr) & PCA(cov) after removing ourliers\")\n",
    "calc_lasso(X_adj_lasso, Y_adj_lasso)\n",
    "calc_pca_correlation(X_adj, Y_adj, N)\n",
    "calc_pca_covaraince(X_adj, Y_adj, N)"
   ]
  },
  {
   "cell_type": "markdown",
   "metadata": {
    "id": "v0J4vNIPnG75"
   },
   "source": [
    "## 6.5\tWhat are the differences when you exclude the 5%?\n"
   ]
  },
  {
   "cell_type": "markdown",
   "metadata": {
    "id": "fA15cMk59MZJ"
   },
   "source": [
    "Ideally removing outliers should give better fit for our model, but we received worse values for $R^2$; \n",
    "\n",
    "This can be explained as:\n",
    "*   Insufficient data collected for finding linear correlation, and removing outliers reduced the dataset even more.\n",
    "*   There is no linear correlation for the model based on selected predictors, and greater value for $R^2$ on first run is simply a coincidence\n",
    "\n"
   ]
  },
  {
   "cell_type": "markdown",
   "metadata": {
    "id": "jljOhbtDnIPd"
   },
   "source": [
    "## 6.6\tWhat are the key differences in the methods between LASSO and PCA?\n"
   ]
  },
  {
   "cell_type": "markdown",
   "metadata": {
    "id": "hbwXLX3m8gWb"
   },
   "source": [
    "PCA is used for dimension reduction based on co-variance matrices, it allows to tell how many predictor are required to build linear regression model, but not the weigths of predictors. \n",
    "\n",
    "While Lasso provides feature selection based on coefficients of predictors and trained data set.\n",
    "\n"
   ]
  },
  {
   "cell_type": "markdown",
   "metadata": {
    "id": "tp0RzwdsnKdG"
   },
   "source": [
    "## 6.7\tCompare the results of the models."
   ]
  },
  {
   "cell_type": "markdown",
   "metadata": {
    "id": "S8mXYs8rBPaH"
   },
   "source": [
    "The best results to fit the model XLF returns have been obtained by **PCA (with correlation matrix)** model with $R^2 = 69.7487$\n",
    "\n",
    "When predictors are highly correlated PCA is better choice, thus the method aims to minimize the variance in the predictor space by using linear combinations of the predictors. But the method does not tell which of the predictor to pick - which one is important.\n",
    "\n",
    "On the other hand Lasso regression tries to find best fit using weights of predictors and penalty function, trying fit the model with the minimal error. Setting proper hyper-parameter $\\lambda$ (penalizing) function, gives better estimates and projection when model deals with test data.\n",
    "\n",
    "To underline : Pick Lasso Regression - when the task is to find concrete predictors and weights based on training data; And use PCA for dimension reduction for further analyzes of correlations. \n",
    "\n"
   ]
  },
  {
   "cell_type": "markdown",
   "metadata": {
    "id": "Dc_ghIk8lwFS"
   },
   "source": [
    "#7. Category 2 Models: Trees and SVM - Run 4 different models"
   ]
  },
  {
   "cell_type": "markdown",
   "metadata": {
    "id": "IMH6Me9SK0q4"
   },
   "source": [
    "Let's prepare our data for selected index XLF"
   ]
  },
  {
   "cell_type": "code",
   "execution_count": null,
   "metadata": {
    "id": "GgfR2p2PKzYm"
   },
   "outputs": [],
   "source": [
    "df_adj = df.dropna(how='any')\n",
    "X = df_adj.drop(columns=selected_index1)\n",
    "Y = df_adj[selected_index1]\n",
    "\n",
    "X_train, X_test, y_train, y_test = \\\n",
    "  train_test_split(X, Y, test_size=0.33, random_state=123)"
   ]
  },
  {
   "cell_type": "markdown",
   "metadata": {
    "id": "d1BRY_G9nTv5"
   },
   "source": [
    "## 7.1\tRun a regression tree using your equity fund as the y variable, and all SPDR ETFs as potential explanatory variables.\n"
   ]
  },
  {
   "cell_type": "code",
   "execution_count": null,
   "metadata": {
    "colab": {
     "base_uri": "https://localhost:8080/"
    },
    "id": "8AxcLbg0nirJ",
    "outputId": "0cdc0c2e-11a9-4b91-dd5e-108c30462fad"
   },
   "outputs": [
    {
     "name": "stdout",
     "output_type": "stream",
     "text": [
      "Regression tree score = 0.9374595059397494\n"
     ]
    }
   ],
   "source": [
    "def calc_regression_tree(X_train, X_test, y_train, y_test):\n",
    "  clf1 = tree.DecisionTreeRegressor(random_state=0, splitter='best')\n",
    "  clf1 = clf1.fit(X_train, y_train)\n",
    "  y_pred = clf1.predict(X_test)\n",
    "  print(f'Regression tree score = {clf1.score(X_test, y_test)}')\n",
    "\n",
    "calc_regression_tree(X_train, X_test, y_train, y_test)"
   ]
  },
  {
   "cell_type": "markdown",
   "metadata": {
    "id": "UJ6BA1oO0NPU"
   },
   "source": [
    "Regression tree with weights, to demonstrate that while some insight can be gained from it, it is rather unwieldy and generally not too useful for the explanatory purpose:"
   ]
  },
  {
   "cell_type": "code",
   "execution_count": null,
   "metadata": {
    "colab": {
     "base_uri": "https://localhost:8080/"
    },
    "id": "Q3Kw44OJSAFq",
    "outputId": "fd211e94-db1b-4556-c18a-e7890dc79911"
   },
   "outputs": [
    {
     "name": "stdout",
     "output_type": "stream",
     "text": [
      "Regresstion tree with weights:\n",
      "|--- feature_4 <= 74.47\n",
      "|   |--- feature_1 <= 51.40\n",
      "|   |   |--- feature_4 <= 65.59\n",
      "|   |   |   |--- feature_5 <= 62.11\n",
      "|   |   |   |   |--- feature_4 <= 64.77\n",
      "|   |   |   |   |   |--- feature_8 <= 49.38\n",
      "|   |   |   |   |   |   |--- value: [23.33]\n",
      "|   |   |   |   |   |--- feature_8 >  49.38\n",
      "|   |   |   |   |   |   |--- feature_8 <= 49.53\n",
      "|   |   |   |   |   |   |   |--- value: [23.17]\n",
      "|   |   |   |   |   |   |--- feature_8 >  49.53\n",
      "|   |   |   |   |   |   |   |--- value: [23.22]\n",
      "|   |   |   |   |--- feature_4 >  64.77\n",
      "|   |   |   |   |   |--- feature_10 <= 101.73\n",
      "|   |   |   |   |   |   |--- value: [23.56]\n",
      "|   |   |   |   |   |--- feature_10 >  101.73\n",
      "|   |   |   |   |   |   |--- value: [23.40]\n",
      "|   |   |   |--- feature_5 >  62.11\n",
      "|   |   |   |   |--- feature_6 <= 51.51\n",
      "|   |   |   |   |   |--- feature_9 <= 84.87\n",
      "|   |   |   |   |   |   |--- feature_10 <= 100.86\n",
      "|   |   |   |   |   |   |   |--- value: [24.18]\n",
      "|   |   |   |   |   |   |--- feature_10 >  100.86\n",
      "|   |   |   |   |   |   |   |--- value: [24.28]\n",
      "|   |   |   |   |   |--- feature_9 >  84.87\n",
      "|   |   |   |   |   |   |--- feature_3 <= 55.14\n",
      "|   |   |   |   |   |   |   |--- value: [23.77]\n",
      "|   |   |   |   |   |   |--- feature_3 >  55.14\n",
      "|   |   |   |   |   |   |   |--- value: [23.83]\n",
      "|   |   |   |   |--- feature_6 >  51.51\n",
      "|   |   |   |   |   |--- feature_3 <= 55.21\n",
      "|   |   |   |   |   |   |--- value: [23.41]\n",
      "|   |   |   |   |   |--- feature_3 >  55.21\n",
      "|   |   |   |   |   |   |--- value: [23.24]\n",
      "|   |   |--- feature_4 >  65.59\n",
      "|   |   |   |--- feature_4 <= 66.80\n",
      "|   |   |   |   |--- feature_5 <= 64.19\n",
      "|   |   |   |   |   |--- feature_1 <= 50.79\n",
      "|   |   |   |   |   |   |--- feature_8 <= 49.76\n",
      "|   |   |   |   |   |   |   |--- value: [24.41]\n",
      "|   |   |   |   |   |   |--- feature_8 >  49.76\n",
      "|   |   |   |   |   |   |   |--- feature_9 <= 85.85\n",
      "|   |   |   |   |   |   |   |   |--- feature_2 <= 42.66\n",
      "|   |   |   |   |   |   |   |   |   |--- value: [24.68]\n",
      "|   |   |   |   |   |   |   |   |--- feature_2 >  42.66\n",
      "|   |   |   |   |   |   |   |   |   |--- value: [24.63]\n",
      "|   |   |   |   |   |   |   |--- feature_9 >  85.85\n",
      "|   |   |   |   |   |   |   |   |--- feature_6 <= 49.49\n",
      "|   |   |   |   |   |   |   |   |   |--- value: [24.55]\n",
      "|   |   |   |   |   |   |   |   |--- feature_6 >  49.49\n",
      "|   |   |   |   |   |   |   |   |   |--- value: [24.57]\n",
      "|   |   |   |   |   |--- feature_1 >  50.79\n",
      "|   |   |   |   |   |   |--- feature_6 <= 50.20\n",
      "|   |   |   |   |   |   |   |--- value: [24.76]\n",
      "|   |   |   |   |   |   |--- feature_6 >  50.20\n",
      "|   |   |   |   |   |   |   |--- feature_4 <= 66.45\n",
      "|   |   |   |   |   |   |   |   |--- value: [24.86]\n",
      "|   |   |   |   |   |   |   |--- feature_4 >  66.45\n",
      "|   |   |   |   |   |   |   |   |--- value: [24.88]\n",
      "|   |   |   |   |--- feature_5 >  64.19\n",
      "|   |   |   |   |   |--- feature_9 <= 84.04\n",
      "|   |   |   |   |   |   |--- value: [23.96]\n",
      "|   |   |   |   |   |--- feature_9 >  84.04\n",
      "|   |   |   |   |   |   |--- feature_4 <= 66.65\n",
      "|   |   |   |   |   |   |   |--- value: [24.33]\n",
      "|   |   |   |   |   |   |--- feature_4 >  66.65\n",
      "|   |   |   |   |   |   |   |--- value: [24.30]\n",
      "|   |   |   |--- feature_4 >  66.80\n",
      "|   |   |   |   |--- feature_2 <= 45.76\n",
      "|   |   |   |   |   |--- feature_7 <= 30.92\n",
      "|   |   |   |   |   |   |--- feature_1 <= 50.43\n",
      "|   |   |   |   |   |   |   |--- feature_2 <= 45.70\n",
      "|   |   |   |   |   |   |   |   |--- value: [24.57]\n",
      "|   |   |   |   |   |   |   |--- feature_2 >  45.70\n",
      "|   |   |   |   |   |   |   |   |--- value: [24.77]\n",
      "|   |   |   |   |   |   |--- feature_1 >  50.43\n",
      "|   |   |   |   |   |   |   |--- feature_3 <= 56.19\n",
      "|   |   |   |   |   |   |   |   |--- value: [24.83]\n",
      "|   |   |   |   |   |   |   |--- feature_3 >  56.19\n",
      "|   |   |   |   |   |   |   |   |--- feature_5 <= 64.20\n",
      "|   |   |   |   |   |   |   |   |   |--- feature_1 <= 51.02\n",
      "|   |   |   |   |   |   |   |   |   |   |--- value: [25.20]\n",
      "|   |   |   |   |   |   |   |   |   |--- feature_1 >  51.02\n",
      "|   |   |   |   |   |   |   |   |   |   |--- value: [25.18]\n",
      "|   |   |   |   |   |   |   |   |--- feature_5 >  64.20\n",
      "|   |   |   |   |   |   |   |   |   |--- feature_1 <= 51.03\n",
      "|   |   |   |   |   |   |   |   |   |   |--- value: [24.97]\n",
      "|   |   |   |   |   |   |   |   |   |--- feature_1 >  51.03\n",
      "|   |   |   |   |   |   |   |   |   |   |--- feature_3 <= 63.44\n",
      "|   |   |   |   |   |   |   |   |   |   |   |--- truncated branch of depth 3\n",
      "|   |   |   |   |   |   |   |   |   |   |--- feature_3 >  63.44\n",
      "|   |   |   |   |   |   |   |   |   |   |   |--- value: [25.09]\n",
      "|   |   |   |   |   |--- feature_7 >  30.92\n",
      "|   |   |   |   |   |   |--- feature_6 <= 50.89\n",
      "|   |   |   |   |   |   |   |--- feature_10 <= 103.79\n",
      "|   |   |   |   |   |   |   |   |--- value: [24.67]\n",
      "|   |   |   |   |   |   |   |--- feature_10 >  103.79\n",
      "|   |   |   |   |   |   |   |   |--- feature_0 <= 69.25\n",
      "|   |   |   |   |   |   |   |   |   |--- feature_10 <= 105.28\n",
      "|   |   |   |   |   |   |   |   |   |   |--- value: [24.83]\n",
      "|   |   |   |   |   |   |   |   |   |--- feature_10 >  105.28\n",
      "|   |   |   |   |   |   |   |   |   |   |--- value: [24.77]\n",
      "|   |   |   |   |   |   |   |   |--- feature_0 >  69.25\n",
      "|   |   |   |   |   |   |   |   |   |--- value: [24.89]\n",
      "|   |   |   |   |   |   |--- feature_6 >  50.89\n",
      "|   |   |   |   |   |   |   |--- feature_6 <= 51.49\n",
      "|   |   |   |   |   |   |   |   |--- value: [24.59]\n",
      "|   |   |   |   |   |   |   |--- feature_6 >  51.49\n",
      "|   |   |   |   |   |   |   |   |--- value: [24.64]\n",
      "|   |   |   |   |--- feature_2 >  45.76\n",
      "|   |   |   |   |   |--- feature_9 <= 84.25\n",
      "|   |   |   |   |   |   |--- value: [24.97]\n",
      "|   |   |   |   |   |--- feature_9 >  84.25\n",
      "|   |   |   |   |   |   |--- feature_8 <= 54.72\n",
      "|   |   |   |   |   |   |   |--- feature_6 <= 50.73\n",
      "|   |   |   |   |   |   |   |   |--- value: [25.22]\n",
      "|   |   |   |   |   |   |   |--- feature_6 >  50.73\n",
      "|   |   |   |   |   |   |   |   |--- feature_5 <= 69.72\n",
      "|   |   |   |   |   |   |   |   |   |--- value: [25.31]\n",
      "|   |   |   |   |   |   |   |   |--- feature_5 >  69.72\n",
      "|   |   |   |   |   |   |   |   |   |--- value: [25.35]\n",
      "|   |   |   |   |   |   |--- feature_8 >  54.72\n",
      "|   |   |   |   |   |   |   |--- feature_7 <= 34.07\n",
      "|   |   |   |   |   |   |   |   |--- value: [25.44]\n",
      "|   |   |   |   |   |   |   |--- feature_7 >  34.07\n",
      "|   |   |   |   |   |   |   |   |--- value: [25.49]\n",
      "|   |--- feature_1 >  51.40\n",
      "|   |   |--- feature_1 <= 55.68\n",
      "|   |   |   |--- feature_2 <= 47.60\n",
      "|   |   |   |   |--- feature_1 <= 54.64\n",
      "|   |   |   |   |   |--- feature_7 <= 31.68\n",
      "|   |   |   |   |   |   |--- feature_9 <= 88.90\n",
      "|   |   |   |   |   |   |   |--- feature_9 <= 86.84\n",
      "|   |   |   |   |   |   |   |   |--- feature_3 <= 59.92\n",
      "|   |   |   |   |   |   |   |   |   |--- value: [25.44]\n",
      "|   |   |   |   |   |   |   |   |--- feature_3 >  59.92\n",
      "|   |   |   |   |   |   |   |   |   |--- value: [25.57]\n",
      "|   |   |   |   |   |   |   |--- feature_9 >  86.84\n",
      "|   |   |   |   |   |   |   |   |--- feature_7 <= 30.89\n",
      "|   |   |   |   |   |   |   |   |   |--- feature_4 <= 69.96\n",
      "|   |   |   |   |   |   |   |   |   |   |--- value: [25.37]\n",
      "|   |   |   |   |   |   |   |   |   |--- feature_4 >  69.96\n",
      "|   |   |   |   |   |   |   |   |   |   |--- value: [25.39]\n",
      "|   |   |   |   |   |   |   |   |--- feature_7 >  30.89\n",
      "|   |   |   |   |   |   |   |   |   |--- value: [25.43]\n",
      "|   |   |   |   |   |   |--- feature_9 >  88.90\n",
      "|   |   |   |   |   |   |   |--- feature_1 <= 53.00\n",
      "|   |   |   |   |   |   |   |   |--- feature_6 <= 52.80\n",
      "|   |   |   |   |   |   |   |   |   |--- feature_8 <= 51.23\n",
      "|   |   |   |   |   |   |   |   |   |   |--- feature_0 <= 68.11\n",
      "|   |   |   |   |   |   |   |   |   |   |   |--- value: [25.68]\n",
      "|   |   |   |   |   |   |   |   |   |   |--- feature_0 >  68.11\n",
      "|   |   |   |   |   |   |   |   |   |   |   |--- value: [25.65]\n",
      "|   |   |   |   |   |   |   |   |   |--- feature_8 >  51.23\n",
      "|   |   |   |   |   |   |   |   |   |   |--- value: [25.60]\n",
      "|   |   |   |   |   |   |   |   |--- feature_6 >  52.80\n",
      "|   |   |   |   |   |   |   |   |   |--- feature_4 <= 69.58\n",
      "|   |   |   |   |   |   |   |   |   |   |--- value: [25.74]\n",
      "|   |   |   |   |   |   |   |   |   |--- feature_4 >  69.58\n",
      "|   |   |   |   |   |   |   |   |   |   |--- value: [25.76]\n",
      "|   |   |   |   |   |   |   |--- feature_1 >  53.00\n",
      "|   |   |   |   |   |   |   |   |--- feature_10 <= 108.42\n",
      "|   |   |   |   |   |   |   |   |   |--- value: [25.90]\n",
      "|   |   |   |   |   |   |   |   |--- feature_10 >  108.42\n",
      "|   |   |   |   |   |   |   |   |   |--- value: [25.98]\n",
      "|   |   |   |   |   |--- feature_7 >  31.68\n",
      "|   |   |   |   |   |   |--- feature_9 <= 85.62\n",
      "|   |   |   |   |   |   |   |--- feature_3 <= 56.44\n",
      "|   |   |   |   |   |   |   |   |--- value: [25.81]\n",
      "|   |   |   |   |   |   |   |--- feature_3 >  56.44\n",
      "|   |   |   |   |   |   |   |   |--- value: [25.83]\n",
      "|   |   |   |   |   |   |--- feature_9 >  85.62\n",
      "|   |   |   |   |   |   |   |--- feature_9 <= 88.54\n",
      "|   |   |   |   |   |   |   |   |--- feature_1 <= 52.60\n",
      "|   |   |   |   |   |   |   |   |   |--- feature_6 <= 52.17\n",
      "|   |   |   |   |   |   |   |   |   |   |--- feature_10 <= 105.72\n",
      "|   |   |   |   |   |   |   |   |   |   |   |--- value: [24.81]\n",
      "|   |   |   |   |   |   |   |   |   |   |--- feature_10 >  105.72\n",
      "|   |   |   |   |   |   |   |   |   |   |   |--- truncated branch of depth 2\n",
      "|   |   |   |   |   |   |   |   |   |--- feature_6 >  52.17\n",
      "|   |   |   |   |   |   |   |   |   |   |--- value: [24.40]\n",
      "|   |   |   |   |   |   |   |   |--- feature_1 >  52.60\n",
      "|   |   |   |   |   |   |   |   |   |--- feature_9 <= 88.48\n",
      "|   |   |   |   |   |   |   |   |   |   |--- feature_9 <= 87.79\n",
      "|   |   |   |   |   |   |   |   |   |   |   |--- truncated branch of depth 4\n",
      "|   |   |   |   |   |   |   |   |   |   |--- feature_9 >  87.79\n",
      "|   |   |   |   |   |   |   |   |   |   |   |--- truncated branch of depth 3\n",
      "|   |   |   |   |   |   |   |   |   |--- feature_9 >  88.48\n",
      "|   |   |   |   |   |   |   |   |   |   |--- value: [24.68]\n",
      "|   |   |   |   |   |   |   |--- feature_9 >  88.54\n",
      "|   |   |   |   |   |   |   |   |--- feature_9 <= 88.61\n",
      "|   |   |   |   |   |   |   |   |   |--- value: [25.82]\n",
      "|   |   |   |   |   |   |   |   |--- feature_9 >  88.61\n",
      "|   |   |   |   |   |   |   |   |   |--- feature_4 <= 71.99\n",
      "|   |   |   |   |   |   |   |   |   |   |--- feature_1 <= 53.35\n",
      "|   |   |   |   |   |   |   |   |   |   |   |--- value: [25.56]\n",
      "|   |   |   |   |   |   |   |   |   |   |--- feature_1 >  53.35\n",
      "|   |   |   |   |   |   |   |   |   |   |   |--- value: [25.62]\n",
      "|   |   |   |   |   |   |   |   |   |--- feature_4 >  71.99\n",
      "|   |   |   |   |   |   |   |   |   |   |--- feature_2 <= 46.88\n",
      "|   |   |   |   |   |   |   |   |   |   |   |--- truncated branch of depth 4\n",
      "|   |   |   |   |   |   |   |   |   |   |--- feature_2 >  46.88\n",
      "|   |   |   |   |   |   |   |   |   |   |   |--- value: [25.02]\n",
      "|   |   |   |   |--- feature_1 >  54.64\n",
      "|   |   |   |   |   |--- feature_3 <= 56.42\n",
      "|   |   |   |   |   |   |--- feature_5 <= 75.06\n",
      "|   |   |   |   |   |   |   |--- feature_0 <= 75.81\n",
      "|   |   |   |   |   |   |   |   |--- value: [26.07]\n",
      "|   |   |   |   |   |   |   |--- feature_0 >  75.81\n",
      "|   |   |   |   |   |   |   |   |--- feature_0 <= 76.45\n",
      "|   |   |   |   |   |   |   |   |   |--- value: [26.03]\n",
      "|   |   |   |   |   |   |   |   |--- feature_0 >  76.45\n",
      "|   |   |   |   |   |   |   |   |   |--- value: [26.00]\n",
      "|   |   |   |   |   |   |--- feature_5 >  75.06\n",
      "|   |   |   |   |   |   |   |--- value: [26.26]\n",
      "|   |   |   |   |   |--- feature_3 >  56.42\n",
      "|   |   |   |   |   |   |--- feature_10 <= 113.92\n",
      "|   |   |   |   |   |   |   |--- value: [25.34]\n",
      "|   |   |   |   |   |   |--- feature_10 >  113.92\n",
      "|   |   |   |   |   |   |   |--- feature_2 <= 47.47\n",
      "|   |   |   |   |   |   |   |   |--- value: [25.50]\n",
      "|   |   |   |   |   |   |   |--- feature_2 >  47.47\n",
      "|   |   |   |   |   |   |   |   |--- feature_8 <= 54.59\n",
      "|   |   |   |   |   |   |   |   |   |--- value: [25.56]\n",
      "|   |   |   |   |   |   |   |   |--- feature_8 >  54.59\n",
      "|   |   |   |   |   |   |   |   |   |--- value: [25.53]\n",
      "|   |   |   |--- feature_2 >  47.60\n",
      "|   |   |   |   |--- feature_5 <= 67.85\n",
      "|   |   |   |   |   |--- feature_7 <= 29.72\n",
      "|   |   |   |   |   |   |--- value: [25.31]\n",
      "|   |   |   |   |   |--- feature_7 >  29.72\n",
      "|   |   |   |   |   |   |--- feature_2 <= 48.25\n",
      "|   |   |   |   |   |   |   |--- value: [25.02]\n",
      "|   |   |   |   |   |   |--- feature_2 >  48.25\n",
      "|   |   |   |   |   |   |   |--- value: [25.13]\n",
      "|   |   |   |   |--- feature_5 >  67.85\n",
      "|   |   |   |   |   |--- feature_3 <= 50.73\n",
      "|   |   |   |   |   |   |--- feature_8 <= 59.17\n",
      "|   |   |   |   |   |   |   |--- feature_5 <= 76.75\n",
      "|   |   |   |   |   |   |   |   |--- value: [25.50]\n",
      "|   |   |   |   |   |   |   |--- feature_5 >  76.75\n",
      "|   |   |   |   |   |   |   |   |--- value: [25.42]\n",
      "|   |   |   |   |   |   |--- feature_8 >  59.17\n",
      "|   |   |   |   |   |   |   |--- value: [25.27]\n",
      "|   |   |   |   |   |--- feature_3 >  50.73\n",
      "|   |   |   |   |   |   |--- feature_6 <= 58.69\n",
      "|   |   |   |   |   |   |   |--- feature_4 <= 70.16\n",
      "|   |   |   |   |   |   |   |   |--- feature_1 <= 55.35\n",
      "|   |   |   |   |   |   |   |   |   |--- feature_3 <= 65.02\n",
      "|   |   |   |   |   |   |   |   |   |   |--- feature_9 <= 80.80\n",
      "|   |   |   |   |   |   |   |   |   |   |   |--- value: [25.70]\n",
      "|   |   |   |   |   |   |   |   |   |   |--- feature_9 >  80.80\n",
      "|   |   |   |   |   |   |   |   |   |   |   |--- value: [25.78]\n",
      "|   |   |   |   |   |   |   |   |   |--- feature_3 >  65.02\n",
      "|   |   |   |   |   |   |   |   |   |   |--- value: [25.95]\n",
      "|   |   |   |   |   |   |   |   |--- feature_1 >  55.35\n",
      "|   |   |   |   |   |   |   |   |   |--- feature_9 <= 83.20\n",
      "|   |   |   |   |   |   |   |   |   |   |--- feature_8 <= 47.50\n",
      "|   |   |   |   |   |   |   |   |   |   |   |--- value: [25.58]\n",
      "|   |   |   |   |   |   |   |   |   |   |--- feature_8 >  47.50\n",
      "|   |   |   |   |   |   |   |   |   |   |   |--- value: [25.61]\n",
      "|   |   |   |   |   |   |   |   |   |--- feature_9 >  83.20\n",
      "|   |   |   |   |   |   |   |   |   |   |--- value: [25.49]\n",
      "|   |   |   |   |   |   |   |--- feature_4 >  70.16\n",
      "|   |   |   |   |   |   |   |   |--- feature_7 <= 33.90\n",
      "|   |   |   |   |   |   |   |   |   |--- feature_1 <= 55.18\n",
      "|   |   |   |   |   |   |   |   |   |   |--- feature_2 <= 48.41\n",
      "|   |   |   |   |   |   |   |   |   |   |   |--- truncated branch of depth 4\n",
      "|   |   |   |   |   |   |   |   |   |   |--- feature_2 >  48.41\n",
      "|   |   |   |   |   |   |   |   |   |   |   |--- truncated branch of depth 2\n",
      "|   |   |   |   |   |   |   |   |   |--- feature_1 >  55.18\n",
      "|   |   |   |   |   |   |   |   |   |   |--- feature_1 <= 55.41\n",
      "|   |   |   |   |   |   |   |   |   |   |   |--- value: [26.59]\n",
      "|   |   |   |   |   |   |   |   |   |   |--- feature_1 >  55.41\n",
      "|   |   |   |   |   |   |   |   |   |   |   |--- truncated branch of depth 2\n",
      "|   |   |   |   |   |   |   |   |--- feature_7 >  33.90\n",
      "|   |   |   |   |   |   |   |   |   |--- feature_8 <= 54.83\n",
      "|   |   |   |   |   |   |   |   |   |   |--- feature_6 <= 53.27\n",
      "|   |   |   |   |   |   |   |   |   |   |   |--- truncated branch of depth 2\n",
      "|   |   |   |   |   |   |   |   |   |   |--- feature_6 >  53.27\n",
      "|   |   |   |   |   |   |   |   |   |   |   |--- truncated branch of depth 2\n",
      "|   |   |   |   |   |   |   |   |   |--- feature_8 >  54.83\n",
      "|   |   |   |   |   |   |   |   |   |   |--- feature_4 <= 72.49\n",
      "|   |   |   |   |   |   |   |   |   |   |   |--- truncated branch of depth 3\n",
      "|   |   |   |   |   |   |   |   |   |   |--- feature_4 >  72.49\n",
      "|   |   |   |   |   |   |   |   |   |   |   |--- truncated branch of depth 6\n",
      "|   |   |   |   |   |   |--- feature_6 >  58.69\n",
      "|   |   |   |   |   |   |   |--- feature_5 <= 78.74\n",
      "|   |   |   |   |   |   |   |   |--- value: [26.58]\n",
      "|   |   |   |   |   |   |   |--- feature_5 >  78.74\n",
      "|   |   |   |   |   |   |   |   |--- feature_4 <= 73.44\n",
      "|   |   |   |   |   |   |   |   |   |--- value: [26.49]\n",
      "|   |   |   |   |   |   |   |   |--- feature_4 >  73.44\n",
      "|   |   |   |   |   |   |   |   |   |--- value: [26.48]\n",
      "|   |   |--- feature_1 >  55.68\n",
      "|   |   |   |--- feature_4 <= 70.76\n",
      "|   |   |   |   |--- feature_3 <= 66.63\n",
      "|   |   |   |   |   |--- value: [25.78]\n",
      "|   |   |   |   |--- feature_3 >  66.63\n",
      "|   |   |   |   |   |--- value: [25.68]\n",
      "|   |   |   |--- feature_4 >  70.76\n",
      "|   |   |   |   |--- feature_3 <= 56.95\n",
      "|   |   |   |   |   |--- feature_2 <= 49.71\n",
      "|   |   |   |   |   |   |--- feature_2 <= 48.04\n",
      "|   |   |   |   |   |   |   |--- feature_0 <= 76.32\n",
      "|   |   |   |   |   |   |   |   |--- value: [26.02]\n",
      "|   |   |   |   |   |   |   |--- feature_0 >  76.32\n",
      "|   |   |   |   |   |   |   |   |--- feature_9 <= 89.08\n",
      "|   |   |   |   |   |   |   |   |   |--- value: [26.09]\n",
      "|   |   |   |   |   |   |   |   |--- feature_9 >  89.08\n",
      "|   |   |   |   |   |   |   |   |   |--- value: [26.07]\n",
      "|   |   |   |   |   |   |--- feature_2 >  48.04\n",
      "|   |   |   |   |   |   |   |--- feature_10 <= 117.04\n",
      "|   |   |   |   |   |   |   |   |--- value: [26.25]\n",
      "|   |   |   |   |   |   |   |--- feature_10 >  117.04\n",
      "|   |   |   |   |   |   |   |   |--- value: [26.30]\n",
      "|   |   |   |   |   |--- feature_2 >  49.71\n",
      "|   |   |   |   |   |   |--- value: [26.64]\n",
      "|   |   |   |   |--- feature_3 >  56.95\n",
      "|   |   |   |   |   |--- feature_9 <= 85.66\n",
      "|   |   |   |   |   |   |--- feature_10 <= 108.71\n",
      "|   |   |   |   |   |   |   |--- feature_8 <= 48.28\n",
      "|   |   |   |   |   |   |   |   |--- value: [26.60]\n",
      "|   |   |   |   |   |   |   |--- feature_8 >  48.28\n",
      "|   |   |   |   |   |   |   |   |--- feature_1 <= 56.19\n",
      "|   |   |   |   |   |   |   |   |   |--- value: [26.57]\n",
      "|   |   |   |   |   |   |   |   |--- feature_1 >  56.19\n",
      "|   |   |   |   |   |   |   |   |   |--- value: [26.58]\n",
      "|   |   |   |   |   |   |--- feature_10 >  108.71\n",
      "|   |   |   |   |   |   |   |--- value: [26.53]\n",
      "|   |   |   |   |   |--- feature_9 >  85.66\n",
      "|   |   |   |   |   |   |--- feature_2 <= 48.55\n",
      "|   |   |   |   |   |   |   |--- feature_10 <= 109.77\n",
      "|   |   |   |   |   |   |   |   |--- feature_9 <= 85.80\n",
      "|   |   |   |   |   |   |   |   |   |--- value: [26.84]\n",
      "|   |   |   |   |   |   |   |   |--- feature_9 >  85.80\n",
      "|   |   |   |   |   |   |   |   |   |--- value: [26.90]\n",
      "|   |   |   |   |   |   |   |--- feature_10 >  109.77\n",
      "|   |   |   |   |   |   |   |   |--- feature_4 <= 73.06\n",
      "|   |   |   |   |   |   |   |   |   |--- feature_3 <= 64.34\n",
      "|   |   |   |   |   |   |   |   |   |   |--- feature_1 <= 55.72\n",
      "|   |   |   |   |   |   |   |   |   |   |   |--- value: [26.71]\n",
      "|   |   |   |   |   |   |   |   |   |   |--- feature_1 >  55.72\n",
      "|   |   |   |   |   |   |   |   |   |   |   |--- value: [26.70]\n",
      "|   |   |   |   |   |   |   |   |   |--- feature_3 >  64.34\n",
      "|   |   |   |   |   |   |   |   |   |   |--- value: [26.69]\n",
      "|   |   |   |   |   |   |   |   |--- feature_4 >  73.06\n",
      "|   |   |   |   |   |   |   |   |   |--- feature_7 <= 30.83\n",
      "|   |   |   |   |   |   |   |   |   |   |--- feature_3 <= 62.91\n",
      "|   |   |   |   |   |   |   |   |   |   |   |--- value: [26.74]\n",
      "|   |   |   |   |   |   |   |   |   |   |--- feature_3 >  62.91\n",
      "|   |   |   |   |   |   |   |   |   |   |   |--- value: [26.77]\n",
      "|   |   |   |   |   |   |   |   |   |--- feature_7 >  30.83\n",
      "|   |   |   |   |   |   |   |   |   |   |--- feature_6 <= 50.48\n",
      "|   |   |   |   |   |   |   |   |   |   |   |--- value: [26.80]\n",
      "|   |   |   |   |   |   |   |   |   |   |--- feature_6 >  50.48\n",
      "|   |   |   |   |   |   |   |   |   |   |   |--- value: [26.81]\n",
      "|   |   |   |   |   |   |--- feature_2 >  48.55\n",
      "|   |   |   |   |   |   |   |--- feature_7 <= 33.73\n",
      "|   |   |   |   |   |   |   |   |--- feature_10 <= 112.90\n",
      "|   |   |   |   |   |   |   |   |   |--- value: [27.02]\n",
      "|   |   |   |   |   |   |   |   |--- feature_10 >  112.90\n",
      "|   |   |   |   |   |   |   |   |   |--- value: [27.01]\n",
      "|   |   |   |   |   |   |   |--- feature_7 >  33.73\n",
      "|   |   |   |   |   |   |   |   |--- value: [26.99]\n",
      "|--- feature_4 >  74.47\n",
      "|   |--- feature_5 <= 82.39\n",
      "|   |   |--- feature_5 <= 77.53\n",
      "|   |   |   |--- feature_1 <= 56.74\n",
      "|   |   |   |   |--- feature_4 <= 74.69\n",
      "|   |   |   |   |   |--- feature_3 <= 58.04\n",
      "|   |   |   |   |   |   |--- value: [26.16]\n",
      "|   |   |   |   |   |--- feature_3 >  58.04\n",
      "|   |   |   |   |   |   |--- value: [26.05]\n",
      "|   |   |   |   |--- feature_4 >  74.69\n",
      "|   |   |   |   |   |--- feature_9 <= 84.96\n",
      "|   |   |   |   |   |   |--- feature_6 <= 54.12\n",
      "|   |   |   |   |   |   |   |--- feature_7 <= 33.61\n",
      "|   |   |   |   |   |   |   |   |--- feature_9 <= 83.48\n",
      "|   |   |   |   |   |   |   |   |   |--- value: [26.32]\n",
      "|   |   |   |   |   |   |   |   |--- feature_9 >  83.48\n",
      "|   |   |   |   |   |   |   |   |   |--- value: [26.33]\n",
      "|   |   |   |   |   |   |   |--- feature_7 >  33.61\n",
      "|   |   |   |   |   |   |   |   |--- value: [26.30]\n",
      "|   |   |   |   |   |   |--- feature_6 >  54.12\n",
      "|   |   |   |   |   |   |   |--- value: [26.17]\n",
      "|   |   |   |   |   |--- feature_9 >  84.96\n",
      "|   |   |   |   |   |   |--- feature_9 <= 90.32\n",
      "|   |   |   |   |   |   |   |--- feature_5 <= 76.83\n",
      "|   |   |   |   |   |   |   |   |--- feature_4 <= 74.79\n",
      "|   |   |   |   |   |   |   |   |   |--- feature_6 <= 50.86\n",
      "|   |   |   |   |   |   |   |   |   |   |--- value: [26.55]\n",
      "|   |   |   |   |   |   |   |   |   |--- feature_6 >  50.86\n",
      "|   |   |   |   |   |   |   |   |   |   |--- value: [26.49]\n",
      "|   |   |   |   |   |   |   |   |--- feature_4 >  74.79\n",
      "|   |   |   |   |   |   |   |   |   |--- feature_8 <= 48.96\n",
      "|   |   |   |   |   |   |   |   |   |   |--- value: [26.87]\n",
      "|   |   |   |   |   |   |   |   |   |--- feature_8 >  48.96\n",
      "|   |   |   |   |   |   |   |   |   |   |--- feature_1 <= 54.86\n",
      "|   |   |   |   |   |   |   |   |   |   |   |--- truncated branch of depth 3\n",
      "|   |   |   |   |   |   |   |   |   |   |--- feature_1 >  54.86\n",
      "|   |   |   |   |   |   |   |   |   |   |   |--- truncated branch of depth 4\n",
      "|   |   |   |   |   |   |   |--- feature_5 >  76.83\n",
      "|   |   |   |   |   |   |   |   |--- feature_4 <= 75.53\n",
      "|   |   |   |   |   |   |   |   |   |--- feature_7 <= 33.76\n",
      "|   |   |   |   |   |   |   |   |   |   |--- value: [26.86]\n",
      "|   |   |   |   |   |   |   |   |   |--- feature_7 >  33.76\n",
      "|   |   |   |   |   |   |   |   |   |   |--- value: [26.90]\n",
      "|   |   |   |   |   |   |   |   |--- feature_4 >  75.53\n",
      "|   |   |   |   |   |   |   |   |   |--- value: [26.95]\n",
      "|   |   |   |   |   |   |--- feature_9 >  90.32\n",
      "|   |   |   |   |   |   |   |--- feature_5 <= 73.15\n",
      "|   |   |   |   |   |   |   |   |--- value: [26.45]\n",
      "|   |   |   |   |   |   |   |--- feature_5 >  73.15\n",
      "|   |   |   |   |   |   |   |   |--- feature_0 <= 75.56\n",
      "|   |   |   |   |   |   |   |   |   |--- value: [26.28]\n",
      "|   |   |   |   |   |   |   |   |--- feature_0 >  75.56\n",
      "|   |   |   |   |   |   |   |   |   |--- value: [26.32]\n",
      "|   |   |   |--- feature_1 >  56.74\n",
      "|   |   |   |   |--- feature_7 <= 30.59\n",
      "|   |   |   |   |   |--- feature_10 <= 113.13\n",
      "|   |   |   |   |   |   |--- value: [26.97]\n",
      "|   |   |   |   |   |--- feature_10 >  113.13\n",
      "|   |   |   |   |   |   |--- value: [27.15]\n",
      "|   |   |   |   |--- feature_7 >  30.59\n",
      "|   |   |   |   |   |--- feature_0 <= 73.76\n",
      "|   |   |   |   |   |   |--- value: [27.28]\n",
      "|   |   |   |   |   |--- feature_0 >  73.76\n",
      "|   |   |   |   |   |   |--- value: [27.38]\n",
      "|   |   |--- feature_5 >  77.53\n",
      "|   |   |   |--- feature_4 <= 75.96\n",
      "|   |   |   |   |--- feature_1 <= 55.54\n",
      "|   |   |   |   |   |--- feature_5 <= 79.68\n",
      "|   |   |   |   |   |   |--- value: [26.88]\n",
      "|   |   |   |   |   |--- feature_5 >  79.68\n",
      "|   |   |   |   |   |   |--- feature_9 <= 88.28\n",
      "|   |   |   |   |   |   |   |--- value: [26.48]\n",
      "|   |   |   |   |   |   |--- feature_9 >  88.28\n",
      "|   |   |   |   |   |   |   |--- value: [26.48]\n",
      "|   |   |   |   |--- feature_1 >  55.54\n",
      "|   |   |   |   |   |--- feature_5 <= 79.22\n",
      "|   |   |   |   |   |   |--- feature_3 <= 56.89\n",
      "|   |   |   |   |   |   |   |--- feature_0 <= 79.13\n",
      "|   |   |   |   |   |   |   |   |--- feature_5 <= 78.73\n",
      "|   |   |   |   |   |   |   |   |   |--- feature_9 <= 89.16\n",
      "|   |   |   |   |   |   |   |   |   |   |--- value: [27.02]\n",
      "|   |   |   |   |   |   |   |   |   |--- feature_9 >  89.16\n",
      "|   |   |   |   |   |   |   |   |   |   |--- value: [27.03]\n",
      "|   |   |   |   |   |   |   |   |--- feature_5 >  78.73\n",
      "|   |   |   |   |   |   |   |   |   |--- feature_0 <= 77.68\n",
      "|   |   |   |   |   |   |   |   |   |   |--- value: [26.98]\n",
      "|   |   |   |   |   |   |   |   |   |--- feature_0 >  77.68\n",
      "|   |   |   |   |   |   |   |   |   |   |--- value: [26.96]\n",
      "|   |   |   |   |   |   |   |--- feature_0 >  79.13\n",
      "|   |   |   |   |   |   |   |   |--- value: [26.87]\n",
      "|   |   |   |   |   |   |--- feature_3 >  56.89\n",
      "|   |   |   |   |   |   |   |--- value: [27.14]\n",
      "|   |   |   |   |   |--- feature_5 >  79.22\n",
      "|   |   |   |   |   |   |--- feature_2 <= 49.68\n",
      "|   |   |   |   |   |   |   |--- feature_0 <= 77.47\n",
      "|   |   |   |   |   |   |   |   |--- feature_4 <= 75.80\n",
      "|   |   |   |   |   |   |   |   |   |--- value: [27.15]\n",
      "|   |   |   |   |   |   |   |   |--- feature_4 >  75.80\n",
      "|   |   |   |   |   |   |   |   |   |--- value: [27.11]\n",
      "|   |   |   |   |   |   |   |--- feature_0 >  77.47\n",
      "|   |   |   |   |   |   |   |   |--- feature_5 <= 79.81\n",
      "|   |   |   |   |   |   |   |   |   |--- value: [27.07]\n",
      "|   |   |   |   |   |   |   |   |--- feature_5 >  79.81\n",
      "|   |   |   |   |   |   |   |   |   |--- value: [27.02]\n",
      "|   |   |   |   |   |   |--- feature_2 >  49.68\n",
      "|   |   |   |   |   |   |   |--- feature_2 <= 50.01\n",
      "|   |   |   |   |   |   |   |   |--- feature_1 <= 56.53\n",
      "|   |   |   |   |   |   |   |   |   |--- feature_3 <= 51.90\n",
      "|   |   |   |   |   |   |   |   |   |   |--- value: [27.26]\n",
      "|   |   |   |   |   |   |   |   |   |--- feature_3 >  51.90\n",
      "|   |   |   |   |   |   |   |   |   |   |--- value: [27.24]\n",
      "|   |   |   |   |   |   |   |   |--- feature_1 >  56.53\n",
      "|   |   |   |   |   |   |   |   |   |--- value: [27.28]\n",
      "|   |   |   |   |   |   |   |--- feature_2 >  50.01\n",
      "|   |   |   |   |   |   |   |   |--- feature_7 <= 37.67\n",
      "|   |   |   |   |   |   |   |   |   |--- feature_2 <= 50.32\n",
      "|   |   |   |   |   |   |   |   |   |   |--- value: [27.17]\n",
      "|   |   |   |   |   |   |   |   |   |--- feature_2 >  50.32\n",
      "|   |   |   |   |   |   |   |   |   |   |--- value: [27.17]\n",
      "|   |   |   |   |   |   |   |   |--- feature_7 >  37.67\n",
      "|   |   |   |   |   |   |   |   |   |--- value: [27.19]\n",
      "|   |   |   |--- feature_4 >  75.96\n",
      "|   |   |   |   |--- feature_7 <= 37.59\n",
      "|   |   |   |   |   |--- feature_5 <= 80.93\n",
      "|   |   |   |   |   |   |--- feature_5 <= 79.38\n",
      "|   |   |   |   |   |   |   |--- value: [27.10]\n",
      "|   |   |   |   |   |   |--- feature_5 >  79.38\n",
      "|   |   |   |   |   |   |   |--- feature_9 <= 88.63\n",
      "|   |   |   |   |   |   |   |   |--- value: [27.52]\n",
      "|   |   |   |   |   |   |   |--- feature_9 >  88.63\n",
      "|   |   |   |   |   |   |   |   |--- feature_10 <= 120.86\n",
      "|   |   |   |   |   |   |   |   |   |--- feature_0 <= 78.72\n",
      "|   |   |   |   |   |   |   |   |   |   |--- value: [27.39]\n",
      "|   |   |   |   |   |   |   |   |   |--- feature_0 >  78.72\n",
      "|   |   |   |   |   |   |   |   |   |   |--- value: [27.38]\n",
      "|   |   |   |   |   |   |   |   |--- feature_10 >  120.86\n",
      "|   |   |   |   |   |   |   |   |   |--- feature_0 <= 79.60\n",
      "|   |   |   |   |   |   |   |   |   |   |--- feature_1 <= 57.10\n",
      "|   |   |   |   |   |   |   |   |   |   |   |--- value: [27.28]\n",
      "|   |   |   |   |   |   |   |   |   |   |--- feature_1 >  57.10\n",
      "|   |   |   |   |   |   |   |   |   |   |   |--- value: [27.30]\n",
      "|   |   |   |   |   |   |   |   |   |--- feature_0 >  79.60\n",
      "|   |   |   |   |   |   |   |   |   |   |--- value: [27.32]\n",
      "|   |   |   |   |   |--- feature_5 >  80.93\n",
      "|   |   |   |   |   |   |--- feature_8 <= 57.16\n",
      "|   |   |   |   |   |   |   |--- feature_1 <= 57.36\n",
      "|   |   |   |   |   |   |   |   |--- value: [27.68]\n",
      "|   |   |   |   |   |   |   |--- feature_1 >  57.36\n",
      "|   |   |   |   |   |   |   |   |--- value: [27.57]\n",
      "|   |   |   |   |   |   |--- feature_8 >  57.16\n",
      "|   |   |   |   |   |   |   |--- value: [27.47]\n",
      "|   |   |   |   |--- feature_7 >  37.59\n",
      "|   |   |   |   |   |--- feature_9 <= 91.03\n",
      "|   |   |   |   |   |   |--- feature_10 <= 119.80\n",
      "|   |   |   |   |   |   |   |--- feature_9 <= 89.67\n",
      "|   |   |   |   |   |   |   |   |--- value: [27.64]\n",
      "|   |   |   |   |   |   |   |--- feature_9 >  89.67\n",
      "|   |   |   |   |   |   |   |   |--- value: [27.68]\n",
      "|   |   |   |   |   |   |--- feature_10 >  119.80\n",
      "|   |   |   |   |   |   |   |--- value: [27.56]\n",
      "|   |   |   |   |   |--- feature_9 >  91.03\n",
      "|   |   |   |   |   |   |--- value: [27.83]\n",
      "|   |--- feature_5 >  82.39\n",
      "|   |   |--- feature_5 <= 84.28\n",
      "|   |   |   |--- feature_5 <= 83.05\n",
      "|   |   |   |   |--- value: [27.97]\n",
      "|   |   |   |--- feature_5 >  83.05\n",
      "|   |   |   |   |--- feature_7 <= 36.77\n",
      "|   |   |   |   |   |--- value: [28.59]\n",
      "|   |   |   |   |--- feature_7 >  36.77\n",
      "|   |   |   |   |   |--- value: [28.48]\n",
      "|   |   |--- feature_5 >  84.28\n",
      "|   |   |   |--- feature_2 <= 51.48\n",
      "|   |   |   |   |--- feature_3 <= 54.01\n",
      "|   |   |   |   |   |--- feature_0 <= 77.48\n",
      "|   |   |   |   |   |   |--- value: [28.71]\n",
      "|   |   |   |   |   |--- feature_0 >  77.48\n",
      "|   |   |   |   |   |   |--- value: [28.65]\n",
      "|   |   |   |   |--- feature_3 >  54.01\n",
      "|   |   |   |   |   |--- feature_7 <= 36.16\n",
      "|   |   |   |   |   |   |--- feature_2 <= 50.89\n",
      "|   |   |   |   |   |   |   |--- value: [28.90]\n",
      "|   |   |   |   |   |   |--- feature_2 >  50.89\n",
      "|   |   |   |   |   |   |   |--- value: [28.94]\n",
      "|   |   |   |   |   |--- feature_7 >  36.16\n",
      "|   |   |   |   |   |   |--- feature_2 <= 51.45\n",
      "|   |   |   |   |   |   |   |--- feature_2 <= 51.09\n",
      "|   |   |   |   |   |   |   |   |--- value: [28.86]\n",
      "|   |   |   |   |   |   |   |--- feature_2 >  51.09\n",
      "|   |   |   |   |   |   |   |   |--- value: [28.85]\n",
      "|   |   |   |   |   |   |--- feature_2 >  51.45\n",
      "|   |   |   |   |   |   |   |--- value: [28.80]\n",
      "|   |   |   |--- feature_2 >  51.48\n",
      "|   |   |   |   |--- feature_0 <= 78.79\n",
      "|   |   |   |   |   |--- feature_0 <= 78.13\n",
      "|   |   |   |   |   |   |--- feature_4 <= 79.17\n",
      "|   |   |   |   |   |   |   |--- value: [29.05]\n",
      "|   |   |   |   |   |   |--- feature_4 >  79.17\n",
      "|   |   |   |   |   |   |   |--- value: [29.01]\n",
      "|   |   |   |   |   |--- feature_0 >  78.13\n",
      "|   |   |   |   |   |   |--- feature_5 <= 85.63\n",
      "|   |   |   |   |   |   |   |--- value: [28.92]\n",
      "|   |   |   |   |   |   |--- feature_5 >  85.63\n",
      "|   |   |   |   |   |   |   |--- value: [28.91]\n",
      "|   |   |   |   |--- feature_0 >  78.79\n",
      "|   |   |   |   |   |--- value: [29.17]\n",
      "\n"
     ]
    }
   ],
   "source": [
    "print('Regresstion tree with weights:')\n",
    "clf1 = tree.DecisionTreeRegressor(random_state=0, splitter='best')\n",
    "clf1 = clf1.fit(X_train, y_train)\n",
    "textual_view = tree.export_text(clf1)\n",
    "print(textual_view)\n"
   ]
  },
  {
   "cell_type": "code",
   "execution_count": null,
   "metadata": {
    "colab": {
     "base_uri": "https://localhost:8080/"
    },
    "id": "jQ-6O8hhY_RR",
    "outputId": "c824e665-8913-4e08-b451-200f83572f28"
   },
   "outputs": [
    {
     "data": {
      "text/plain": [
       "{'ccp_alpha': 0.0,\n",
       " 'criterion': 'mse',\n",
       " 'max_depth': None,\n",
       " 'max_features': None,\n",
       " 'max_leaf_nodes': None,\n",
       " 'min_impurity_decrease': 0.0,\n",
       " 'min_impurity_split': None,\n",
       " 'min_samples_leaf': 1,\n",
       " 'min_samples_split': 2,\n",
       " 'min_weight_fraction_leaf': 0.0,\n",
       " 'random_state': 0,\n",
       " 'splitter': 'best'}"
      ]
     },
     "execution_count": 38,
     "metadata": {
      "tags": []
     },
     "output_type": "execute_result"
    }
   ],
   "source": [
    "clf1.get_params()"
   ]
  },
  {
   "cell_type": "markdown",
   "metadata": {
    "id": "UuCk81B9nbmi"
   },
   "source": [
    "## 7.2\tRepeat using a Support Vector Machine.\n"
   ]
  },
  {
   "cell_type": "code",
   "execution_count": null,
   "metadata": {
    "colab": {
     "base_uri": "https://localhost:8080/"
    },
    "id": "1IAmBJrOFvNE",
    "outputId": "d5dcc909-a2dc-42ee-9e4f-c96f7212d8af"
   },
   "outputs": [
    {
     "name": "stdout",
     "output_type": "stream",
     "text": [
      "SVM score = 0.8917858383373637\n"
     ]
    }
   ],
   "source": [
    "def calc_svm(X_train, X_test, y_train, y_test):\n",
    "  clf1 = svm.SVR()  \n",
    "  clf1 = clf1.fit(X_train, y_train)\n",
    "  yr_pred = clf1.predict(X_test)\n",
    "  print(f'SVM score = {clf1.score(X_test, y_test)}')\n",
    "\n",
    "calc_svm(X_train, X_test, y_train, y_test)"
   ]
  },
  {
   "cell_type": "markdown",
   "metadata": {
    "id": "tF9-u1xincw_"
   },
   "source": [
    "## 7.3\tRepeat 7.1, 7.2 without using the extreme 5% values of the data.\n"
   ]
  },
  {
   "cell_type": "markdown",
   "metadata": {
    "id": "bHeUUoesL_jv"
   },
   "source": [
    "Again we remove out-lier by Z-score"
   ]
  },
  {
   "cell_type": "code",
   "execution_count": null,
   "metadata": {
    "colab": {
     "base_uri": "https://localhost:8080/"
    },
    "id": "BaBUYbsBnjuT",
    "outputId": "7489aba5-2623-440e-f8dc-02d7dbc68874"
   },
   "outputs": [
    {
     "name": "stdout",
     "output_type": "stream",
     "text": [
      "Following dates have been excluded: \n",
      "DatetimeIndex(['2014-01-02', '2014-01-03', '2014-01-06', '2014-01-07',\n",
      "               '2014-01-08', '2014-01-09', '2014-01-10', '2014-01-13',\n",
      "               '2014-01-14', '2014-01-15',\n",
      "               ...\n",
      "               '2019-12-16', '2019-12-17', '2019-12-18', '2019-12-19',\n",
      "               '2019-12-20', '2019-12-23', '2019-12-24', '2019-12-26',\n",
      "               '2019-12-27', '2019-12-30'],\n",
      "              dtype='datetime64[ns]', name='Date', length=1155, freq=None)\n"
     ]
    }
   ],
   "source": [
    "# remove all the row with outliers of 95%\n",
    "z_threshold = 1.96\n",
    "\n",
    "df_adj = df.dropna(how='any')\n",
    "df_adj = df_adj[(np.abs(stats.zscore(df_adj[selected_index1])) <= z_threshold)]\n",
    "\n",
    "X_adj = df_adj.drop(columns=selected_index1)\n",
    "Y_adj = df_adj[selected_index1]\n",
    "\n",
    "X_train, X_test, y_train, y_test = \\\n",
    "  train_test_split(X_adj, Y_adj, test_size=0.33, random_state=123)\n",
    "\n",
    "idx = df.index.difference(df_adj.index)\n",
    "print(\"Following dates have been excluded: \\n%s\" % idx)"
   ]
  },
  {
   "cell_type": "code",
   "execution_count": null,
   "metadata": {
    "colab": {
     "base_uri": "https://localhost:8080/"
    },
    "id": "swWI1kMKMs0e",
    "outputId": "81e47af0-d350-4527-ed28-43952bb4cdef"
   },
   "outputs": [
    {
     "name": "stdout",
     "output_type": "stream",
     "text": [
      "Regression tree & SVM after removing ourliers\n",
      "Regression tree score = 0.9003905643257077\n",
      "SVM score = 0.8349900890970069\n"
     ]
    }
   ],
   "source": [
    "print(\"Regression tree & SVM after removing ourliers\")\n",
    "calc_regression_tree(X_train, X_test, y_train, y_test)\n",
    "calc_svm(X_train, X_test, y_train, y_test)"
   ]
  },
  {
   "cell_type": "markdown",
   "metadata": {
    "id": "HV_fawU3neZL"
   },
   "source": [
    "## 7.4\tWhat are the differences when you exclude the 5%?\n"
   ]
  },
  {
   "cell_type": "markdown",
   "metadata": {
    "id": "vkygfR7CODlT"
   },
   "source": [
    "Again removing outliers reduced model scores, instead of improving.\n",
    "\n",
    "This can be explained as insufficient data collected for finding linear correlation, and removing outliers reduced the dataset even more.\n"
   ]
  },
  {
   "cell_type": "markdown",
   "metadata": {
    "id": "J78iawVGnfwL"
   },
   "source": [
    "## 7.5\tWhat are the key differences in the methods between CART and SVM?\n"
   ]
  },
  {
   "cell_type": "markdown",
   "metadata": {
    "id": "Za8zek2xOgai"
   },
   "source": [
    "* Both CART and SVM split the input space into smaller subsets to aid separation of data into meaningful segments. Both can be used for classification purposes.\n",
    "* CART is known being vulnerable to overfitting, while SVM gives more more robust results.\n",
    "* CART is said to build \"Local models\", while SVM builds a \"Global model\" by learning separating hyperplane."
   ]
  },
  {
   "cell_type": "markdown",
   "metadata": {
    "id": "DaZrMUwJnhXU"
   },
   "source": [
    "## 7.6\tCompare the results of the models."
   ]
  },
  {
   "cell_type": "markdown",
   "metadata": {
    "id": "aRI3YTBOQeGF"
   },
   "source": [
    "The best *score=0.9374* has been shown by regression tree without removing outlier as described above it could be overfitting issue of the model.\n",
    "\n",
    "At the same time th SVM model got very good *score=0.892* and can be used for modelling XLF index based on other 11 SPDR Indexes."
   ]
  },
  {
   "cell_type": "markdown",
   "metadata": {
    "id": "d0fMy-omFZzo"
   },
   "source": [
    "# 8. Combining the Models"
   ]
  },
  {
   "cell_type": "markdown",
   "metadata": {
    "id": "W5SiO4c9nqIV"
   },
   "source": [
    "## 8.1\tOf all 10 models that you ran, which one gives the best explanatory results?\n"
   ]
  },
  {
   "cell_type": "markdown",
   "metadata": {
    "id": "a1asLJh3Fims"
   },
   "source": [
    "Based on $R^2$ as a measure of explained variability devided by total variability of the dataset, the best explanatory power was demonstrated by decision (regression) trees. When it comes to interpreting the results meaningfully within the original feature space, LASSO provides the greatest opportunity to see which (original) variable is most significant and by how much."
   ]
  },
  {
   "cell_type": "markdown",
   "metadata": {
    "id": "DmQfbrnqnrxo"
   },
   "source": [
    "## 8.2\tAre there other extreme value techniques you could have used?"
   ]
  },
  {
   "cell_type": "markdown",
   "metadata": {
    "id": "jY4mbOLCFqFy"
   },
   "source": [
    "While \"extreme value techniques\" is the term mostly used within Extreme Value Theory - a branch of statistics related to analysis and prediction of the maximum (minimum) deviations of a stochastic variable from a median or mean value, here I will interpret this term in a (narrow) sense of outliers detection rather than (more general sense of) theory for probabilistic distribution of such values.\n",
    "\n",
    "With above note in mind, we could have used a range of other techniques (in addition to z-score utilized above):\n",
    "\n",
    "- Bayesian networks\n",
    "- various neural network (e.g. long-short term memory type networks)\n",
    "- cluster analysis-based detection of anomaly\n",
    "\n",
    "and other popular methods "
   ]
  },
  {
   "cell_type": "markdown",
   "metadata": {
    "id": "Onic_a3lnyGj"
   },
   "source": [
    "These questions are to be addressed in a separate PDF: \n",
    "\n",
    "9.1\tWrite a 1-page report to the Trading Manager summarizing the model used.  It must be non-technical.<br>\n",
    "9.2\tWrite a Full documentation report to the Quant Team Manager as to how he model worked.  It must be technical, sequential, and detailed.<br>\n",
    "9.3\tWrite a 1-page report that specifically explains how your group divided the work with details.  There should be collaboration and not just division!\n",
    "\n",
    "https://docs.google.com/document/d/1pL2L9x8UIV2I3XQ35h7iyu5-3OxVXDBmCX7FrPYoWUY/edit?usp=sharing"
   ]
  }
 ],
 "metadata": {
  "colab": {
   "collapsed_sections": [],
   "name": "MScFE 640 Group Work Sub 1.ipynb",
   "provenance": []
  },
  "kernelspec": {
   "display_name": "Python 3",
   "language": "python",
   "name": "python3"
  },
  "language_info": {
   "codemirror_mode": {
    "name": "ipython",
    "version": 3
   },
   "file_extension": ".py",
   "mimetype": "text/x-python",
   "name": "python",
   "nbconvert_exporter": "python",
   "pygments_lexer": "ipython3",
   "version": "3.8.8"
  }
 },
 "nbformat": 4,
 "nbformat_minor": 1
}
